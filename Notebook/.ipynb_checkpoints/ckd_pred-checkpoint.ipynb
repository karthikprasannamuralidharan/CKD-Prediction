{
 "cells": [
  {
   "cell_type": "markdown",
   "id": "e83320db",
   "metadata": {},
   "source": [
    "## Imports"
   ]
  },
  {
   "cell_type": "code",
   "execution_count": 1,
   "id": "17849910",
   "metadata": {},
   "outputs": [],
   "source": [
    "import pandas as pd\n",
    "import numpy as np\n",
    "import matplotlib.pyplot as plt\n",
    "%matplotlib inline\n",
    "from pandas_profiling import ProfileReport\n",
    "\n",
    "from sklearn.model_selection import train_test_split\n",
    "from sklearn.impute import KNNImputer\n",
    "from sklearn import preprocessing\n",
    "from sklearn.preprocessing import StandardScaler\n",
    "\n",
    "from sklearn.feature_selection import SelectKBest\n",
    "from sklearn.feature_selection import chi2,f_classif\n",
    "import seaborn as sns\n",
    "\n",
    "\n",
    "from sklearn.svm import SVC\n",
    "from sklearn.model_selection import GridSearchCV\n",
    "from sklearn import metrics\n",
    "\n",
    "import warnings\n",
    "warnings.filterwarnings('ignore')\n"
   ]
  },
  {
   "cell_type": "markdown",
   "id": "92b5753f",
   "metadata": {},
   "source": [
    "## Dataset"
   ]
  },
  {
   "cell_type": "code",
   "execution_count": 2,
   "id": "22683917",
   "metadata": {},
   "outputs": [
    {
     "data": {
      "text/html": [
       "<div>\n",
       "<style scoped>\n",
       "    .dataframe tbody tr th:only-of-type {\n",
       "        vertical-align: middle;\n",
       "    }\n",
       "\n",
       "    .dataframe tbody tr th {\n",
       "        vertical-align: top;\n",
       "    }\n",
       "\n",
       "    .dataframe thead th {\n",
       "        text-align: right;\n",
       "    }\n",
       "</style>\n",
       "<table border=\"1\" class=\"dataframe\">\n",
       "  <thead>\n",
       "    <tr style=\"text-align: right;\">\n",
       "      <th></th>\n",
       "      <th>age</th>\n",
       "      <th>bp</th>\n",
       "      <th>sg</th>\n",
       "      <th>al</th>\n",
       "      <th>su</th>\n",
       "      <th>rbc</th>\n",
       "      <th>pc</th>\n",
       "      <th>pcc</th>\n",
       "      <th>ba</th>\n",
       "      <th>bgr</th>\n",
       "      <th>...</th>\n",
       "      <th>pcv</th>\n",
       "      <th>wbcc</th>\n",
       "      <th>rbcc</th>\n",
       "      <th>htn</th>\n",
       "      <th>dm</th>\n",
       "      <th>cad</th>\n",
       "      <th>appet</th>\n",
       "      <th>pe</th>\n",
       "      <th>ane</th>\n",
       "      <th>class</th>\n",
       "    </tr>\n",
       "  </thead>\n",
       "  <tbody>\n",
       "    <tr>\n",
       "      <th>0</th>\n",
       "      <td>48</td>\n",
       "      <td>80</td>\n",
       "      <td>1.02</td>\n",
       "      <td>1</td>\n",
       "      <td>0</td>\n",
       "      <td>0</td>\n",
       "      <td>0</td>\n",
       "      <td>1</td>\n",
       "      <td>1</td>\n",
       "      <td>121</td>\n",
       "      <td>...</td>\n",
       "      <td>44</td>\n",
       "      <td>7800</td>\n",
       "      <td>5.2</td>\n",
       "      <td>0</td>\n",
       "      <td>0</td>\n",
       "      <td>1</td>\n",
       "      <td>1</td>\n",
       "      <td>1</td>\n",
       "      <td>1</td>\n",
       "      <td>ckd</td>\n",
       "    </tr>\n",
       "    <tr>\n",
       "      <th>1</th>\n",
       "      <td>7</td>\n",
       "      <td>50</td>\n",
       "      <td>1.02</td>\n",
       "      <td>4</td>\n",
       "      <td>0</td>\n",
       "      <td>0</td>\n",
       "      <td>0</td>\n",
       "      <td>1</td>\n",
       "      <td>1</td>\n",
       "      <td>?</td>\n",
       "      <td>...</td>\n",
       "      <td>38</td>\n",
       "      <td>6000</td>\n",
       "      <td>0.0</td>\n",
       "      <td>1</td>\n",
       "      <td>1</td>\n",
       "      <td>1</td>\n",
       "      <td>1</td>\n",
       "      <td>1</td>\n",
       "      <td>1</td>\n",
       "      <td>ckd</td>\n",
       "    </tr>\n",
       "    <tr>\n",
       "      <th>2</th>\n",
       "      <td>62</td>\n",
       "      <td>80</td>\n",
       "      <td>1.01</td>\n",
       "      <td>2</td>\n",
       "      <td>3</td>\n",
       "      <td>0</td>\n",
       "      <td>0</td>\n",
       "      <td>1</td>\n",
       "      <td>1</td>\n",
       "      <td>423</td>\n",
       "      <td>...</td>\n",
       "      <td>31</td>\n",
       "      <td>7500</td>\n",
       "      <td>0.0</td>\n",
       "      <td>1</td>\n",
       "      <td>0</td>\n",
       "      <td>1</td>\n",
       "      <td>0</td>\n",
       "      <td>1</td>\n",
       "      <td>0</td>\n",
       "      <td>ckd</td>\n",
       "    </tr>\n",
       "    <tr>\n",
       "      <th>3</th>\n",
       "      <td>48</td>\n",
       "      <td>70</td>\n",
       "      <td>1.005</td>\n",
       "      <td>4</td>\n",
       "      <td>0</td>\n",
       "      <td>0</td>\n",
       "      <td>1</td>\n",
       "      <td>0</td>\n",
       "      <td>1</td>\n",
       "      <td>117</td>\n",
       "      <td>...</td>\n",
       "      <td>32</td>\n",
       "      <td>6700</td>\n",
       "      <td>3.9</td>\n",
       "      <td>0</td>\n",
       "      <td>1</td>\n",
       "      <td>1</td>\n",
       "      <td>0</td>\n",
       "      <td>0</td>\n",
       "      <td>0</td>\n",
       "      <td>ckd</td>\n",
       "    </tr>\n",
       "    <tr>\n",
       "      <th>4</th>\n",
       "      <td>51</td>\n",
       "      <td>80</td>\n",
       "      <td>1.01</td>\n",
       "      <td>2</td>\n",
       "      <td>0</td>\n",
       "      <td>0</td>\n",
       "      <td>0</td>\n",
       "      <td>1</td>\n",
       "      <td>1</td>\n",
       "      <td>106</td>\n",
       "      <td>...</td>\n",
       "      <td>35</td>\n",
       "      <td>7300</td>\n",
       "      <td>4.6</td>\n",
       "      <td>1</td>\n",
       "      <td>1</td>\n",
       "      <td>1</td>\n",
       "      <td>1</td>\n",
       "      <td>1</td>\n",
       "      <td>1</td>\n",
       "      <td>ckd</td>\n",
       "    </tr>\n",
       "    <tr>\n",
       "      <th>...</th>\n",
       "      <td>...</td>\n",
       "      <td>...</td>\n",
       "      <td>...</td>\n",
       "      <td>...</td>\n",
       "      <td>...</td>\n",
       "      <td>...</td>\n",
       "      <td>...</td>\n",
       "      <td>...</td>\n",
       "      <td>...</td>\n",
       "      <td>...</td>\n",
       "      <td>...</td>\n",
       "      <td>...</td>\n",
       "      <td>...</td>\n",
       "      <td>...</td>\n",
       "      <td>...</td>\n",
       "      <td>...</td>\n",
       "      <td>...</td>\n",
       "      <td>...</td>\n",
       "      <td>...</td>\n",
       "      <td>...</td>\n",
       "      <td>...</td>\n",
       "    </tr>\n",
       "    <tr>\n",
       "      <th>395</th>\n",
       "      <td>55</td>\n",
       "      <td>80</td>\n",
       "      <td>1.02</td>\n",
       "      <td>0</td>\n",
       "      <td>0</td>\n",
       "      <td>0</td>\n",
       "      <td>0</td>\n",
       "      <td>1</td>\n",
       "      <td>1</td>\n",
       "      <td>140</td>\n",
       "      <td>...</td>\n",
       "      <td>47</td>\n",
       "      <td>6700</td>\n",
       "      <td>4.9</td>\n",
       "      <td>1</td>\n",
       "      <td>1</td>\n",
       "      <td>1</td>\n",
       "      <td>1</td>\n",
       "      <td>1</td>\n",
       "      <td>1</td>\n",
       "      <td>notckd</td>\n",
       "    </tr>\n",
       "    <tr>\n",
       "      <th>396</th>\n",
       "      <td>42</td>\n",
       "      <td>70</td>\n",
       "      <td>1.025</td>\n",
       "      <td>0</td>\n",
       "      <td>0</td>\n",
       "      <td>0</td>\n",
       "      <td>0</td>\n",
       "      <td>1</td>\n",
       "      <td>1</td>\n",
       "      <td>75</td>\n",
       "      <td>...</td>\n",
       "      <td>54</td>\n",
       "      <td>7800</td>\n",
       "      <td>6.2</td>\n",
       "      <td>1</td>\n",
       "      <td>1</td>\n",
       "      <td>1</td>\n",
       "      <td>1</td>\n",
       "      <td>1</td>\n",
       "      <td>1</td>\n",
       "      <td>notckd</td>\n",
       "    </tr>\n",
       "    <tr>\n",
       "      <th>397</th>\n",
       "      <td>12</td>\n",
       "      <td>80</td>\n",
       "      <td>1.02</td>\n",
       "      <td>0</td>\n",
       "      <td>0</td>\n",
       "      <td>0</td>\n",
       "      <td>0</td>\n",
       "      <td>1</td>\n",
       "      <td>1</td>\n",
       "      <td>100</td>\n",
       "      <td>...</td>\n",
       "      <td>49</td>\n",
       "      <td>6600</td>\n",
       "      <td>5.4</td>\n",
       "      <td>1</td>\n",
       "      <td>1</td>\n",
       "      <td>1</td>\n",
       "      <td>1</td>\n",
       "      <td>1</td>\n",
       "      <td>1</td>\n",
       "      <td>notckd</td>\n",
       "    </tr>\n",
       "    <tr>\n",
       "      <th>398</th>\n",
       "      <td>17</td>\n",
       "      <td>60</td>\n",
       "      <td>1.025</td>\n",
       "      <td>0</td>\n",
       "      <td>0</td>\n",
       "      <td>0</td>\n",
       "      <td>0</td>\n",
       "      <td>1</td>\n",
       "      <td>1</td>\n",
       "      <td>114</td>\n",
       "      <td>...</td>\n",
       "      <td>51</td>\n",
       "      <td>7200</td>\n",
       "      <td>5.9</td>\n",
       "      <td>1</td>\n",
       "      <td>1</td>\n",
       "      <td>1</td>\n",
       "      <td>1</td>\n",
       "      <td>1</td>\n",
       "      <td>1</td>\n",
       "      <td>notckd</td>\n",
       "    </tr>\n",
       "    <tr>\n",
       "      <th>399</th>\n",
       "      <td>58</td>\n",
       "      <td>80</td>\n",
       "      <td>1.025</td>\n",
       "      <td>0</td>\n",
       "      <td>0</td>\n",
       "      <td>0</td>\n",
       "      <td>0</td>\n",
       "      <td>1</td>\n",
       "      <td>1</td>\n",
       "      <td>131</td>\n",
       "      <td>...</td>\n",
       "      <td>53</td>\n",
       "      <td>6800</td>\n",
       "      <td>6.1</td>\n",
       "      <td>1</td>\n",
       "      <td>1</td>\n",
       "      <td>1</td>\n",
       "      <td>1</td>\n",
       "      <td>1</td>\n",
       "      <td>1</td>\n",
       "      <td>notckd</td>\n",
       "    </tr>\n",
       "  </tbody>\n",
       "</table>\n",
       "<p>400 rows × 25 columns</p>\n",
       "</div>"
      ],
      "text/plain": [
       "    age  bp     sg al su  rbc  pc  pcc  ba  bgr  ... pcv  wbcc rbcc htn dm  \\\n",
       "0    48  80   1.02  1  0    0   0    1   1  121  ...  44  7800  5.2   0  0   \n",
       "1     7  50   1.02  4  0    0   0    1   1    ?  ...  38  6000  0.0   1  1   \n",
       "2    62  80   1.01  2  3    0   0    1   1  423  ...  31  7500  0.0   1  0   \n",
       "3    48  70  1.005  4  0    0   1    0   1  117  ...  32  6700  3.9   0  1   \n",
       "4    51  80   1.01  2  0    0   0    1   1  106  ...  35  7300  4.6   1  1   \n",
       "..   ..  ..    ... .. ..  ...  ..  ...  ..  ...  ...  ..   ...  ...  .. ..   \n",
       "395  55  80   1.02  0  0    0   0    1   1  140  ...  47  6700  4.9   1  1   \n",
       "396  42  70  1.025  0  0    0   0    1   1   75  ...  54  7800  6.2   1  1   \n",
       "397  12  80   1.02  0  0    0   0    1   1  100  ...  49  6600  5.4   1  1   \n",
       "398  17  60  1.025  0  0    0   0    1   1  114  ...  51  7200  5.9   1  1   \n",
       "399  58  80  1.025  0  0    0   0    1   1  131  ...  53  6800  6.1   1  1   \n",
       "\n",
       "     cad  appet  pe  ane   class  \n",
       "0      1      1   1    1     ckd  \n",
       "1      1      1   1    1     ckd  \n",
       "2      1      0   1    0     ckd  \n",
       "3      1      0   0    0     ckd  \n",
       "4      1      1   1    1     ckd  \n",
       "..   ...    ...  ..  ...     ...  \n",
       "395    1      1   1    1  notckd  \n",
       "396    1      1   1    1  notckd  \n",
       "397    1      1   1    1  notckd  \n",
       "398    1      1   1    1  notckd  \n",
       "399    1      1   1    1  notckd  \n",
       "\n",
       "[400 rows x 25 columns]"
      ]
     },
     "execution_count": 2,
     "metadata": {},
     "output_type": "execute_result"
    }
   ],
   "source": [
    "df = pd.read_csv('Chronic_kidney_disease.csv')\n",
    "df"
   ]
  },
  {
   "cell_type": "code",
   "execution_count": 3,
   "id": "dcfdef5d",
   "metadata": {},
   "outputs": [
    {
     "data": {
      "text/plain": [
       "(400, 25)"
      ]
     },
     "execution_count": 3,
     "metadata": {},
     "output_type": "execute_result"
    }
   ],
   "source": [
    "df.shape"
   ]
  },
  {
   "cell_type": "code",
   "execution_count": 4,
   "id": "16045bed",
   "metadata": {},
   "outputs": [
    {
     "name": "stdout",
     "output_type": "stream",
     "text": [
      "<class 'pandas.core.frame.DataFrame'>\n",
      "RangeIndex: 400 entries, 0 to 399\n",
      "Data columns (total 25 columns):\n",
      " #   Column  Non-Null Count  Dtype  \n",
      "---  ------  --------------  -----  \n",
      " 0   age     400 non-null    object \n",
      " 1   bp      400 non-null    object \n",
      " 2   sg      400 non-null    object \n",
      " 3   al      400 non-null    object \n",
      " 4   su      400 non-null    object \n",
      " 5   rbc     400 non-null    int64  \n",
      " 6   pc      400 non-null    int64  \n",
      " 7   pcc     400 non-null    int64  \n",
      " 8   ba      400 non-null    int64  \n",
      " 9   bgr     400 non-null    object \n",
      " 10  bu      400 non-null    object \n",
      " 11  sc      400 non-null    object \n",
      " 12  sod     400 non-null    object \n",
      " 13  pot     400 non-null    object \n",
      " 14  hemo    400 non-null    object \n",
      " 15  pcv     400 non-null    int64  \n",
      " 16  wbcc    400 non-null    int64  \n",
      " 17  rbcc    400 non-null    float64\n",
      " 18  htn     400 non-null    int64  \n",
      " 19  dm      400 non-null    int64  \n",
      " 20  cad     400 non-null    int64  \n",
      " 21  appet   400 non-null    int64  \n",
      " 22  pe      400 non-null    int64  \n",
      " 23  ane     400 non-null    int64  \n",
      " 24  class   400 non-null    object \n",
      "dtypes: float64(1), int64(12), object(12)\n",
      "memory usage: 78.2+ KB\n"
     ]
    }
   ],
   "source": [
    "df.info()"
   ]
  },
  {
   "cell_type": "code",
   "execution_count": 5,
   "id": "94b48ea9",
   "metadata": {},
   "outputs": [
    {
     "data": {
      "text/html": [
       "<div>\n",
       "<style scoped>\n",
       "    .dataframe tbody tr th:only-of-type {\n",
       "        vertical-align: middle;\n",
       "    }\n",
       "\n",
       "    .dataframe tbody tr th {\n",
       "        vertical-align: top;\n",
       "    }\n",
       "\n",
       "    .dataframe thead th {\n",
       "        text-align: right;\n",
       "    }\n",
       "</style>\n",
       "<table border=\"1\" class=\"dataframe\">\n",
       "  <thead>\n",
       "    <tr style=\"text-align: right;\">\n",
       "      <th></th>\n",
       "      <th>rbc</th>\n",
       "      <th>pc</th>\n",
       "      <th>pcc</th>\n",
       "      <th>ba</th>\n",
       "      <th>pcv</th>\n",
       "      <th>wbcc</th>\n",
       "      <th>rbcc</th>\n",
       "      <th>htn</th>\n",
       "      <th>dm</th>\n",
       "      <th>cad</th>\n",
       "      <th>appet</th>\n",
       "      <th>pe</th>\n",
       "      <th>ane</th>\n",
       "    </tr>\n",
       "  </thead>\n",
       "  <tbody>\n",
       "    <tr>\n",
       "      <th>count</th>\n",
       "      <td>400.000000</td>\n",
       "      <td>400.000000</td>\n",
       "      <td>400.000000</td>\n",
       "      <td>400.000000</td>\n",
       "      <td>400.000000</td>\n",
       "      <td>400.000000</td>\n",
       "      <td>400.00000</td>\n",
       "      <td>400.000000</td>\n",
       "      <td>400.000000</td>\n",
       "      <td>400.000000</td>\n",
       "      <td>400.000000</td>\n",
       "      <td>400.000000</td>\n",
       "      <td>400.000000</td>\n",
       "    </tr>\n",
       "    <tr>\n",
       "      <th>mean</th>\n",
       "      <td>0.117500</td>\n",
       "      <td>0.190000</td>\n",
       "      <td>0.885000</td>\n",
       "      <td>0.935000</td>\n",
       "      <td>31.982500</td>\n",
       "      <td>6178.500000</td>\n",
       "      <td>3.16575</td>\n",
       "      <td>0.627500</td>\n",
       "      <td>0.645000</td>\n",
       "      <td>0.905000</td>\n",
       "      <td>0.792500</td>\n",
       "      <td>0.807500</td>\n",
       "      <td>0.847500</td>\n",
       "    </tr>\n",
       "    <tr>\n",
       "      <th>std</th>\n",
       "      <td>0.322418</td>\n",
       "      <td>0.392792</td>\n",
       "      <td>0.319421</td>\n",
       "      <td>0.246835</td>\n",
       "      <td>16.962799</td>\n",
       "      <td>4490.489839</td>\n",
       "      <td>2.36621</td>\n",
       "      <td>0.484076</td>\n",
       "      <td>0.479113</td>\n",
       "      <td>0.293582</td>\n",
       "      <td>0.406024</td>\n",
       "      <td>0.394757</td>\n",
       "      <td>0.359955</td>\n",
       "    </tr>\n",
       "    <tr>\n",
       "      <th>min</th>\n",
       "      <td>0.000000</td>\n",
       "      <td>0.000000</td>\n",
       "      <td>0.000000</td>\n",
       "      <td>0.000000</td>\n",
       "      <td>0.000000</td>\n",
       "      <td>0.000000</td>\n",
       "      <td>0.00000</td>\n",
       "      <td>0.000000</td>\n",
       "      <td>0.000000</td>\n",
       "      <td>0.000000</td>\n",
       "      <td>0.000000</td>\n",
       "      <td>0.000000</td>\n",
       "      <td>0.000000</td>\n",
       "    </tr>\n",
       "    <tr>\n",
       "      <th>25%</th>\n",
       "      <td>0.000000</td>\n",
       "      <td>0.000000</td>\n",
       "      <td>1.000000</td>\n",
       "      <td>1.000000</td>\n",
       "      <td>26.000000</td>\n",
       "      <td>0.000000</td>\n",
       "      <td>0.00000</td>\n",
       "      <td>0.000000</td>\n",
       "      <td>0.000000</td>\n",
       "      <td>1.000000</td>\n",
       "      <td>1.000000</td>\n",
       "      <td>1.000000</td>\n",
       "      <td>1.000000</td>\n",
       "    </tr>\n",
       "    <tr>\n",
       "      <th>50%</th>\n",
       "      <td>0.000000</td>\n",
       "      <td>0.000000</td>\n",
       "      <td>1.000000</td>\n",
       "      <td>1.000000</td>\n",
       "      <td>37.000000</td>\n",
       "      <td>6900.000000</td>\n",
       "      <td>4.00000</td>\n",
       "      <td>1.000000</td>\n",
       "      <td>1.000000</td>\n",
       "      <td>1.000000</td>\n",
       "      <td>1.000000</td>\n",
       "      <td>1.000000</td>\n",
       "      <td>1.000000</td>\n",
       "    </tr>\n",
       "    <tr>\n",
       "      <th>75%</th>\n",
       "      <td>0.000000</td>\n",
       "      <td>0.000000</td>\n",
       "      <td>1.000000</td>\n",
       "      <td>1.000000</td>\n",
       "      <td>44.000000</td>\n",
       "      <td>9400.000000</td>\n",
       "      <td>5.10000</td>\n",
       "      <td>1.000000</td>\n",
       "      <td>1.000000</td>\n",
       "      <td>1.000000</td>\n",
       "      <td>1.000000</td>\n",
       "      <td>1.000000</td>\n",
       "      <td>1.000000</td>\n",
       "    </tr>\n",
       "    <tr>\n",
       "      <th>max</th>\n",
       "      <td>1.000000</td>\n",
       "      <td>1.000000</td>\n",
       "      <td>1.000000</td>\n",
       "      <td>1.000000</td>\n",
       "      <td>54.000000</td>\n",
       "      <td>26400.000000</td>\n",
       "      <td>8.00000</td>\n",
       "      <td>1.000000</td>\n",
       "      <td>1.000000</td>\n",
       "      <td>1.000000</td>\n",
       "      <td>1.000000</td>\n",
       "      <td>1.000000</td>\n",
       "      <td>1.000000</td>\n",
       "    </tr>\n",
       "  </tbody>\n",
       "</table>\n",
       "</div>"
      ],
      "text/plain": [
       "              rbc          pc         pcc          ba         pcv  \\\n",
       "count  400.000000  400.000000  400.000000  400.000000  400.000000   \n",
       "mean     0.117500    0.190000    0.885000    0.935000   31.982500   \n",
       "std      0.322418    0.392792    0.319421    0.246835   16.962799   \n",
       "min      0.000000    0.000000    0.000000    0.000000    0.000000   \n",
       "25%      0.000000    0.000000    1.000000    1.000000   26.000000   \n",
       "50%      0.000000    0.000000    1.000000    1.000000   37.000000   \n",
       "75%      0.000000    0.000000    1.000000    1.000000   44.000000   \n",
       "max      1.000000    1.000000    1.000000    1.000000   54.000000   \n",
       "\n",
       "               wbcc       rbcc         htn          dm         cad  \\\n",
       "count    400.000000  400.00000  400.000000  400.000000  400.000000   \n",
       "mean    6178.500000    3.16575    0.627500    0.645000    0.905000   \n",
       "std     4490.489839    2.36621    0.484076    0.479113    0.293582   \n",
       "min        0.000000    0.00000    0.000000    0.000000    0.000000   \n",
       "25%        0.000000    0.00000    0.000000    0.000000    1.000000   \n",
       "50%     6900.000000    4.00000    1.000000    1.000000    1.000000   \n",
       "75%     9400.000000    5.10000    1.000000    1.000000    1.000000   \n",
       "max    26400.000000    8.00000    1.000000    1.000000    1.000000   \n",
       "\n",
       "            appet          pe         ane  \n",
       "count  400.000000  400.000000  400.000000  \n",
       "mean     0.792500    0.807500    0.847500  \n",
       "std      0.406024    0.394757    0.359955  \n",
       "min      0.000000    0.000000    0.000000  \n",
       "25%      1.000000    1.000000    1.000000  \n",
       "50%      1.000000    1.000000    1.000000  \n",
       "75%      1.000000    1.000000    1.000000  \n",
       "max      1.000000    1.000000    1.000000  "
      ]
     },
     "execution_count": 5,
     "metadata": {},
     "output_type": "execute_result"
    }
   ],
   "source": [
    "df.describe()"
   ]
  },
  {
   "cell_type": "code",
   "execution_count": 6,
   "id": "06d9d505",
   "metadata": {},
   "outputs": [],
   "source": [
    "# prof = df.profile_report(title='Pandas Profiling Report')\n",
    "# prof.to_file(output_file=\"ckdreport.html\")"
   ]
  },
  {
   "cell_type": "markdown",
   "id": "d926aaba",
   "metadata": {},
   "source": [
    "## Analying Data"
   ]
  },
  {
   "cell_type": "code",
   "execution_count": 7,
   "id": "a0138650",
   "metadata": {},
   "outputs": [],
   "source": [
    "df.hist(figsize = (35,35))\n",
    "plt.show()"
   ]
  },
  {
   "cell_type": "markdown",
   "id": "03a92b69",
   "metadata": {},
   "source": [
    "## Data Preprocessing"
   ]
  },
  {
   "cell_type": "code",
   "execution_count": 8,
   "id": "3cdd5538",
   "metadata": {
    "scrolled": false
   },
   "outputs": [
    {
     "name": "stdout",
     "output_type": "stream",
     "text": [
      "Shape of dataset: (400, 25)\n",
      "Total number of records in dataset = 400\n",
      "Total number of attributes in dataset = 25\n",
      "\n",
      "     class\n",
      "0        0\n",
      "1        0\n",
      "2        0\n",
      "3        0\n",
      "4        0\n",
      "..     ...\n",
      "395      1\n",
      "396      1\n",
      "397      1\n",
      "398      1\n",
      "399      1\n",
      "\n",
      "[400 rows x 1 columns]\n"
     ]
    }
   ],
   "source": [
    "try:\n",
    "    #Description of Datasets\n",
    "    #Print number of records and attributes of whole kidney dataset\n",
    "    print('Shape of dataset: ' + str(df.shape))\n",
    "    print('Total number of records in dataset = ' + str(df.shape[0]))\n",
    "    print('Total number of attributes in dataset = ' + str(df.shape[1]))\n",
    "    print('')\n",
    "    \n",
    "    \n",
    "    df = df.replace('?', np.nan)\n",
    "    \n",
    "    #set the features and the target variables\n",
    "    target_class = df['class']\n",
    "    \n",
    "    feature_classes = df.iloc[:, 0:24]\n",
    "    \n",
    "    \n",
    "#     KNN imputation (n_neighbour = 5 means that the missing values will be replaced by the mean value of 5 nearest neighbors)\n",
    "    knn_missing_values_imputer = KNNImputer(n_neighbors=5)\n",
    "    feature_classes = pd.DataFrame(knn_missing_values_imputer.fit_transform(feature_classes),\n",
    "                                   columns = feature_classes.columns)\n",
    "\n",
    "    target_label_encoder = preprocessing.LabelEncoder()\n",
    "    target_class = target_label_encoder.fit_transform(target_class)\n",
    "    target_class = pd.DataFrame(target_class, columns=['class'])\n",
    "    print(target_class)\n",
    "\n",
    "                                                      \n",
    "except FileNotFoundError as e:\n",
    "    logging.error(e)"
   ]
  },
  {
   "cell_type": "code",
   "execution_count": 11,
   "id": "b7e57cec",
   "metadata": {},
   "outputs": [
    {
     "data": {
      "text/plain": [
       "pandas.core.frame.DataFrame"
      ]
     },
     "execution_count": 11,
     "metadata": {},
     "output_type": "execute_result"
    }
   ],
   "source": [
    "type(target_class)"
   ]
  },
  {
   "cell_type": "code",
   "execution_count": 9,
   "id": "4de90b76",
   "metadata": {},
   "outputs": [
    {
     "data": {
      "text/html": [
       "<div>\n",
       "<style scoped>\n",
       "    .dataframe tbody tr th:only-of-type {\n",
       "        vertical-align: middle;\n",
       "    }\n",
       "\n",
       "    .dataframe tbody tr th {\n",
       "        vertical-align: top;\n",
       "    }\n",
       "\n",
       "    .dataframe thead th {\n",
       "        text-align: right;\n",
       "    }\n",
       "</style>\n",
       "<table border=\"1\" class=\"dataframe\">\n",
       "  <thead>\n",
       "    <tr style=\"text-align: right;\">\n",
       "      <th></th>\n",
       "      <th>class</th>\n",
       "    </tr>\n",
       "  </thead>\n",
       "  <tbody>\n",
       "    <tr>\n",
       "      <th>0</th>\n",
       "      <td>0</td>\n",
       "    </tr>\n",
       "    <tr>\n",
       "      <th>1</th>\n",
       "      <td>0</td>\n",
       "    </tr>\n",
       "    <tr>\n",
       "      <th>2</th>\n",
       "      <td>0</td>\n",
       "    </tr>\n",
       "    <tr>\n",
       "      <th>3</th>\n",
       "      <td>0</td>\n",
       "    </tr>\n",
       "    <tr>\n",
       "      <th>4</th>\n",
       "      <td>0</td>\n",
       "    </tr>\n",
       "    <tr>\n",
       "      <th>...</th>\n",
       "      <td>...</td>\n",
       "    </tr>\n",
       "    <tr>\n",
       "      <th>395</th>\n",
       "      <td>1</td>\n",
       "    </tr>\n",
       "    <tr>\n",
       "      <th>396</th>\n",
       "      <td>1</td>\n",
       "    </tr>\n",
       "    <tr>\n",
       "      <th>397</th>\n",
       "      <td>1</td>\n",
       "    </tr>\n",
       "    <tr>\n",
       "      <th>398</th>\n",
       "      <td>1</td>\n",
       "    </tr>\n",
       "    <tr>\n",
       "      <th>399</th>\n",
       "      <td>1</td>\n",
       "    </tr>\n",
       "  </tbody>\n",
       "</table>\n",
       "<p>400 rows × 1 columns</p>\n",
       "</div>"
      ],
      "text/plain": [
       "     class\n",
       "0        0\n",
       "1        0\n",
       "2        0\n",
       "3        0\n",
       "4        0\n",
       "..     ...\n",
       "395      1\n",
       "396      1\n",
       "397      1\n",
       "398      1\n",
       "399      1\n",
       "\n",
       "[400 rows x 1 columns]"
      ]
     },
     "execution_count": 9,
     "metadata": {},
     "output_type": "execute_result"
    }
   ],
   "source": [
    "target_class"
   ]
  },
  {
   "cell_type": "markdown",
   "id": "6bd602a8",
   "metadata": {},
   "source": [
    "## Feature Selection"
   ]
  },
  {
   "cell_type": "markdown",
   "id": "2b17a2ad",
   "metadata": {},
   "source": [
    "## Method-1 Using Classifier"
   ]
  },
  {
   "cell_type": "code",
   "execution_count": 11,
   "id": "981471f0",
   "metadata": {},
   "outputs": [
    {
     "data": {
      "text/plain": [
       "RandomForestClassifier()"
      ]
     },
     "execution_count": 11,
     "metadata": {},
     "output_type": "execute_result"
    }
   ],
   "source": [
    "from sklearn.ensemble import RandomForestClassifier\n",
    "import matplotlib.pyplot as plt\n",
    "model = RandomForestClassifier()\n",
    "model.fit(feature_classes,target_class)"
   ]
  },
  {
   "cell_type": "code",
   "execution_count": 12,
   "id": "906c2032",
   "metadata": {},
   "outputs": [
    {
     "name": "stdout",
     "output_type": "stream",
     "text": [
      "hemo    0.190974\n",
      "pcv     0.174158\n",
      "sc      0.150393\n",
      "sg      0.128735\n",
      "rbcc    0.095496\n",
      "dtype: float64\n"
     ]
    },
    {
     "data": {
      "image/png": "[encoded data removed]",
      "text/plain": [
       "<Figure size 432x288 with 1 Axes>"
      ]
     },
     "metadata": {
      "needs_background": "light"
     },
     "output_type": "display_data"
    },
    {
     "name": "stdout",
     "output_type": "stream",
     "text": [
      "hemo    0.190974\n",
      "pcv     0.174158\n",
      "sc      0.150393\n",
      "sg      0.128735\n",
      "rbcc    0.095496\n",
      "al      0.058597\n",
      "dtype: float64\n"
     ]
    },
    {
     "data": {
      "image/png": "[encoded data removed]",
      "text/plain": [
       "<Figure size 432x288 with 1 Axes>"
      ]
     },
     "metadata": {
      "needs_background": "light"
     },
     "output_type": "display_data"
    },
    {
     "name": "stdout",
     "output_type": "stream",
     "text": [
      "hemo    0.190974\n",
      "pcv     0.174158\n",
      "sc      0.150393\n",
      "sg      0.128735\n",
      "rbcc    0.095496\n",
      "al      0.058597\n",
      "bgr     0.041262\n",
      "dtype: float64\n"
     ]
    },
    {
     "data": {
      "image/png": "[encoded data removed]",
      "text/plain": [
       "<Figure size 432x288 with 1 Axes>"
      ]
     },
     "metadata": {
      "needs_background": "light"
     },
     "output_type": "display_data"
    },
    {
     "name": "stdout",
     "output_type": "stream",
     "text": [
      "hemo    0.190974\n",
      "pcv     0.174158\n",
      "sc      0.150393\n",
      "sg      0.128735\n",
      "rbcc    0.095496\n",
      "al      0.058597\n",
      "bgr     0.041262\n",
      "dm      0.040833\n",
      "dtype: float64\n"
     ]
    },
    {
     "data": {
      "image/png": "[encoded data removed]",
      "text/plain": [
       "<Figure size 432x288 with 1 Axes>"
      ]
     },
     "metadata": {
      "needs_background": "light"
     },
     "output_type": "display_data"
    },
    {
     "name": "stdout",
     "output_type": "stream",
     "text": [
      "hemo    0.190974\n",
      "pcv     0.174158\n",
      "sc      0.150393\n",
      "sg      0.128735\n",
      "rbcc    0.095496\n",
      "al      0.058597\n",
      "bgr     0.041262\n",
      "dm      0.040833\n",
      "bu      0.029413\n",
      "dtype: float64\n"
     ]
    },
    {
     "data": {
      "image/png": "[encoded data removed]",
      "text/plain": [
       "<Figure size 432x288 with 1 Axes>"
      ]
     },
     "metadata": {
      "needs_background": "light"
     },
     "output_type": "display_data"
    },
    {
     "name": "stdout",
     "output_type": "stream",
     "text": [
      "hemo    0.190974\n",
      "pcv     0.174158\n",
      "sc      0.150393\n",
      "sg      0.128735\n",
      "rbcc    0.095496\n",
      "al      0.058597\n",
      "bgr     0.041262\n",
      "dm      0.040833\n",
      "bu      0.029413\n",
      "sod     0.014522\n",
      "dtype: float64\n"
     ]
    },
    {
     "data": {
      "image/png": "[encoded data removed]",
      "text/plain": [
       "<Figure size 432x288 with 1 Axes>"
      ]
     },
     "metadata": {
      "needs_background": "light"
     },
     "output_type": "display_data"
    }
   ],
   "source": [
    "feat_importances = pd.Series(model.feature_importances_, index=feature_classes.columns)\n",
    "for i in range(5,11):\n",
    "    feat_importances.nlargest(i).plot(kind='barh')\n",
    "    print(feat_importances.nlargest(i))\n",
    "    plt.show()"
   ]
  },
  {
   "cell_type": "markdown",
   "id": "4ba4fe2a",
   "metadata": {},
   "source": [
    "## Method-2 Selectkbest"
   ]
  },
  {
   "cell_type": "code",
   "execution_count": 13,
   "id": "66609711",
   "metadata": {},
   "outputs": [],
   "source": [
    "#apply SelectKBest class to extract top 10 best features\n",
    "bestfeatures = SelectKBest(score_func=f_classif, k=10)\n",
    "fit = bestfeatures.fit(feature_classes,target_class)\n",
    "dfscores = pd.DataFrame(fit.scores_)\n",
    "dfcolumns = pd.DataFrame(feature_classes.columns)\n",
    "#concat two dataframes for better visualization \n",
    "featureScores = pd.concat([dfcolumns,dfscores],axis=1)\n",
    "featureScores.columns = ['Specs','Score']  #naming the dataframe columns"
   ]
  },
  {
   "cell_type": "code",
   "execution_count": 14,
   "id": "683747f8",
   "metadata": {
    "scrolled": true
   },
   "outputs": [
    {
     "name": "stdout",
     "output_type": "stream",
     "text": [
      "\n",
      "Top 5 Features\n",
      "\n",
      "   Specs       Score\n",
      "14  hemo  558.308298\n",
      "2     sg  413.050584\n",
      "17  rbcc  280.783698\n",
      "3     al  236.151572\n",
      "15   pcv  223.587689\n",
      "\n",
      "Top 6 Features\n",
      "\n",
      "   Specs       Score\n",
      "14  hemo  558.308298\n",
      "2     sg  413.050584\n",
      "17  rbcc  280.783698\n",
      "3     al  236.151572\n",
      "15   pcv  223.587689\n",
      "18   htn  197.036645\n",
      "\n",
      "Top 7 Features\n",
      "\n",
      "   Specs       Score\n",
      "14  hemo  558.308298\n",
      "2     sg  413.050584\n",
      "17  rbcc  280.783698\n",
      "3     al  236.151572\n",
      "15   pcv  223.587689\n",
      "18   htn  197.036645\n",
      "19    dm  175.397966\n",
      "\n",
      "Top 8 Features\n",
      "\n",
      "   Specs       Score\n",
      "14  hemo  558.308298\n",
      "2     sg  413.050584\n",
      "17  rbcc  280.783698\n",
      "3     al  236.151572\n",
      "15   pcv  223.587689\n",
      "18   htn  197.036645\n",
      "19    dm  175.397966\n",
      "9    bgr   83.762171\n",
      "\n",
      "Top 9 Features\n",
      "\n",
      "    Specs       Score\n",
      "14   hemo  558.308298\n",
      "2      sg  413.050584\n",
      "17   rbcc  280.783698\n",
      "3      al  236.151572\n",
      "15    pcv  223.587689\n",
      "18    htn  197.036645\n",
      "19     dm  175.397966\n",
      "9     bgr   83.762171\n",
      "21  appet   68.678957\n",
      "\n",
      "Top 10 Features\n",
      "\n",
      "    Specs       Score\n",
      "14   hemo  558.308298\n",
      "2      sg  413.050584\n",
      "17   rbcc  280.783698\n",
      "3      al  236.151572\n",
      "15    pcv  223.587689\n",
      "18    htn  197.036645\n",
      "19     dm  175.397966\n",
      "9     bgr   83.762171\n",
      "21  appet   68.678957\n",
      "10     bu   67.528762\n"
     ]
    }
   ],
   "source": [
    "for i in range(5,11):\n",
    "    print(\"\\nTop \"+str(i)+\" Features\\n\")\n",
    "    print(featureScores.nlargest(i,'Score'))\n",
    "    "
   ]
  },
  {
   "cell_type": "markdown",
   "id": "8a8e4be3",
   "metadata": {},
   "source": [
    "## Splitting Dataset"
   ]
  },
  {
   "cell_type": "code",
   "execution_count": 30,
   "id": "2d9a8452",
   "metadata": {
    "scrolled": true
   },
   "outputs": [
    {
     "name": "stdout",
     "output_type": "stream",
     "text": [
      "\n",
      "After Pre-processing:\n",
      "Size of train dataset: 280\n",
      "Size of test dataset: 120\n"
     ]
    }
   ],
   "source": [
    "train_features, test_features, train_target, test_target = train_test_split(feature_classes, target_class, \n",
    "                                                                                train_size = 0.7, test_size = 0.3,shuffle=True, random_state = 42)\n",
    "print('\\nAfter Pre-processing:')\n",
    "print('Size of train dataset: ' + str(train_target.shape[0]))\n",
    "print('Size of test dataset: ' + str(test_target.shape[0]))"
   ]
  },
  {
   "cell_type": "code",
   "execution_count": 16,
   "id": "548b64c4",
   "metadata": {},
   "outputs": [],
   "source": [
    "# featureScores.nlargest(5,'Score').iloc[:,0:1]\n",
    "# featureScores.nlargest('Specs')\n",
    "\n",
    "# for i in range(5,11):\n",
    "#     f = featureScores.nlargest(i,'Score').iloc[:,0:1]\n",
    "#     t = train_features[f[\"Specs\"].tolist()]\n",
    "#     print(t)\n",
    "    \n",
    "# for i in range(5,11):\n",
    "#     print('The no of features are \\n ' +str(i))\n",
    "#     f = featureScores.nlargest(i,'Score').iloc[:,0:1]\n",
    "#     tr = train_features[f[\"Specs\"].tolist()]\n",
    "#     ts = test_features[f[\"Specs\"].tolist()]\n",
    "#     print(tr)\n",
    "#     print(ts)\n",
    "    \n",
    "# print(feat_importances.nlargest(i).index)\n",
    "# for i in range(5,11):\n",
    "#     print('The no of features are \\n ' +str(i))\n",
    "#     f = feat_importances.nlargest(i).index\n",
    "#     print(f)\n",
    "#     tr = train_features[f.tolist()]\n",
    "#     ts = test_features[f.tolist()]\n",
    "#     print(tr)\n",
    "#     print(ts)\n"
   ]
  },
  {
   "cell_type": "markdown",
   "id": "fbd60c9c",
   "metadata": {},
   "source": [
    "## Machine Learning Models"
   ]
  },
  {
   "cell_type": "code",
   "execution_count": 39,
   "id": "3b8ae34b",
   "metadata": {},
   "outputs": [
    {
     "name": "stdout",
     "output_type": "stream",
     "text": [
      "\n",
      "Features From method 1\n",
      "\n",
      "\n",
      "The no of features are 5\n",
      "\n",
      "Scaled data mean is 6.11637724594922e-15\n",
      "[0 1 0 0 0 0 1 0 1 0 0 1 0 0 0 0 1 1 0 1 0 0 1 1 1 1 0 0 1 0 1 0 1 0 0 0 0\n",
      " 1 0 0 1 0 0 0 0 1 0 0 0 0 0 1 1 0 1 0 0 0 0 0 0 1 1 0 0 0 1 1 1 0 1 0 0 0\n",
      " 1 0 0 1 0 1 0 0 0 1 1 0 0 1 0 0 0 1 0 0 0 1 1 1 0 0 0 0 0 0 0 0 0 0 1 1 0\n",
      " 1 1 1 1 0 0 1 1 1]\n",
      "\n",
      "Precision: 0.9777777777777777\n",
      "Accuracy: 0.9916666666666667\n",
      "Recall: 1.0\n",
      "F1-score: 0.9887640449438202\n",
      "\n",
      "Classification Report:\n",
      "              precision    recall  f1-score   support\n",
      "\n",
      "           0       1.00      0.99      0.99        76\n",
      "           1       0.98      1.00      0.99        44\n",
      "\n",
      "    accuracy                           0.99       120\n",
      "   macro avg       0.99      0.99      0.99       120\n",
      "weighted avg       0.99      0.99      0.99       120\n",
      "\n",
      "\n",
      "Confusion Matrix: \n",
      "[[75  1]\n",
      " [ 0 44]]\n"
     ]
    },
    {
     "data": {
      "image/png": "[encoded data removed]",
      "text/plain": [
       "<Figure size 432x288 with 2 Axes>"
      ]
     },
     "metadata": {
      "needs_background": "light"
     },
     "output_type": "display_data"
    },
    {
     "name": "stdout",
     "output_type": "stream",
     "text": [
      "\n",
      "The no of features are 6\n",
      "\n",
      "Scaled data mean is 5.0964523606602424e-15\n",
      "[0 1 0 0 0 0 1 0 1 0 0 1 0 0 0 0 1 1 0 1 0 0 1 1 1 0 0 0 1 0 1 0 1 0 0 0 0\n",
      " 1 0 0 1 0 0 1 0 0 0 0 0 0 0 1 1 1 1 0 0 0 0 0 0 1 1 0 0 0 1 1 1 0 1 0 0 0\n",
      " 1 0 0 1 0 1 0 1 0 1 1 0 0 1 0 0 0 1 0 0 0 1 1 1 0 0 0 0 0 0 0 0 0 0 1 1 0\n",
      " 1 1 1 1 0 0 1 1 1]\n",
      "\n",
      "Precision: 0.9130434782608695\n",
      "Accuracy: 0.95\n",
      "Recall: 0.9545454545454546\n",
      "F1-score: 0.9333333333333332\n",
      "\n",
      "Classification Report:\n",
      "              precision    recall  f1-score   support\n",
      "\n",
      "           0       0.97      0.95      0.96        76\n",
      "           1       0.91      0.95      0.93        44\n",
      "\n",
      "    accuracy                           0.95       120\n",
      "   macro avg       0.94      0.95      0.95       120\n",
      "weighted avg       0.95      0.95      0.95       120\n",
      "\n",
      "\n",
      "Confusion Matrix: \n",
      "[[72  4]\n",
      " [ 2 42]]\n"
     ]
    },
    {
     "data": {
      "image/png": "[encoded data removed]",
      "text/plain": [
       "<Figure size 432x288 with 2 Axes>"
      ]
     },
     "metadata": {
      "needs_background": "light"
     },
     "output_type": "display_data"
    },
    {
     "name": "stdout",
     "output_type": "stream",
     "text": [
      "\n",
      "The no of features are 7\n",
      "\n",
      "Scaled data mean is 4.351167952020716e-15\n",
      "[0 1 0 0 0 0 1 0 1 0 0 1 0 0 0 0 1 1 0 1 0 0 1 1 1 1 0 0 1 0 1 0 1 0 0 0 0\n",
      " 1 0 0 1 0 0 1 0 1 0 0 0 0 0 1 1 0 1 0 0 0 0 0 0 1 1 0 0 0 1 1 1 0 1 0 0 0\n",
      " 1 0 0 1 0 1 0 0 0 1 1 0 0 1 0 0 0 1 0 0 0 1 1 1 0 0 0 0 0 0 0 0 0 0 1 1 0\n",
      " 1 1 1 1 0 0 1 1 1]\n",
      "\n",
      "Precision: 0.9565217391304348\n",
      "Accuracy: 0.9833333333333333\n",
      "Recall: 1.0\n",
      "F1-score: 0.9777777777777777\n",
      "\n",
      "Classification Report:\n",
      "              precision    recall  f1-score   support\n",
      "\n",
      "           0       1.00      0.97      0.99        76\n",
      "           1       0.96      1.00      0.98        44\n",
      "\n",
      "    accuracy                           0.98       120\n",
      "   macro avg       0.98      0.99      0.98       120\n",
      "weighted avg       0.98      0.98      0.98       120\n",
      "\n",
      "\n",
      "Confusion Matrix: \n",
      "[[74  2]\n",
      " [ 0 44]]\n"
     ]
    },
    {
     "data": {
      "image/png": "[encoded data removed]",
      "text/plain": [
       "<Figure size 432x288 with 2 Axes>"
      ]
     },
     "metadata": {
      "needs_background": "light"
     },
     "output_type": "display_data"
    },
    {
     "name": "stdout",
     "output_type": "stream",
     "text": [
      "\n",
      "The no of features are 8\n",
      "\n",
      "Scaled data mean is 3.806478941571965e-15\n",
      "[0 1 0 0 0 0 1 0 1 0 0 1 0 0 0 0 1 1 0 1 0 0 1 1 0 1 0 0 1 0 1 0 1 0 0 0 0\n",
      " 1 0 0 1 0 0 0 0 1 0 0 0 0 0 1 1 0 1 0 0 0 0 0 0 1 1 0 0 0 1 1 1 0 1 0 0 0\n",
      " 1 0 0 1 0 1 0 0 0 1 1 0 0 1 0 0 0 1 0 0 0 1 1 1 0 0 0 0 0 0 0 0 0 0 1 1 0\n",
      " 1 1 1 1 0 0 1 1 1]\n",
      "\n",
      "Precision: 1.0\n",
      "Accuracy: 1.0\n",
      "Recall: 1.0\n",
      "F1-score: 1.0\n",
      "\n",
      "Classification Report:\n",
      "              precision    recall  f1-score   support\n",
      "\n",
      "           0       1.00      1.00      1.00        76\n",
      "           1       1.00      1.00      1.00        44\n",
      "\n",
      "    accuracy                           1.00       120\n",
      "   macro avg       1.00      1.00      1.00       120\n",
      "weighted avg       1.00      1.00      1.00       120\n",
      "\n",
      "\n",
      "Confusion Matrix: \n",
      "[[76  0]\n",
      " [ 0 44]]\n"
     ]
    },
    {
     "data": {
      "image/png": "[encoded data removed]",
      "text/plain": [
       "<Figure size 432x288 with 2 Axes>"
      ]
     },
     "metadata": {
      "needs_background": "light"
     },
     "output_type": "display_data"
    },
    {
     "name": "stdout",
     "output_type": "stream",
     "text": [
      "\n",
      "The no of features are 9\n",
      "\n",
      "Scaled data mean is 3.3778976088912698e-15\n",
      "[0 1 0 0 0 0 1 0 1 0 0 1 0 0 0 0 1 1 0 1 0 0 1 1 0 1 0 0 1 0 1 0 1 0 0 0 0\n",
      " 1 0 0 1 0 0 0 0 1 0 0 0 0 0 1 1 0 1 0 0 0 0 0 0 1 1 0 0 0 1 1 1 0 1 0 0 0\n",
      " 1 0 0 1 0 1 0 0 0 1 1 0 0 1 0 0 0 1 0 0 0 1 1 1 0 0 0 0 0 0 0 0 0 0 1 1 0\n",
      " 1 1 1 1 0 0 1 1 1]\n",
      "\n",
      "Precision: 1.0\n",
      "Accuracy: 1.0\n",
      "Recall: 1.0\n",
      "F1-score: 1.0\n",
      "\n",
      "Classification Report:\n",
      "              precision    recall  f1-score   support\n",
      "\n",
      "           0       1.00      1.00      1.00        76\n",
      "           1       1.00      1.00      1.00        44\n",
      "\n",
      "    accuracy                           1.00       120\n",
      "   macro avg       1.00      1.00      1.00       120\n",
      "weighted avg       1.00      1.00      1.00       120\n",
      "\n",
      "\n",
      "Confusion Matrix: \n",
      "[[76  0]\n",
      " [ 0 44]]\n"
     ]
    },
    {
     "data": {
      "image/png": "[encoded data removed]",
      "text/plain": [
       "<Figure size 432x288 with 2 Axes>"
      ]
     },
     "metadata": {
      "needs_background": "light"
     },
     "output_type": "display_data"
    },
    {
     "name": "stdout",
     "output_type": "stream",
     "text": [
      "\n",
      "The no of features are 10\n",
      "\n",
      "Scaled data mean is 2.9497039731398087e-15\n",
      "[0 1 0 0 0 0 1 0 1 0 0 1 0 0 0 0 1 1 0 1 0 0 1 1 1 1 0 0 1 0 1 0 1 0 0 0 0\n",
      " 1 0 0 1 0 0 0 0 1 0 0 0 0 0 1 1 0 1 0 0 0 0 0 0 1 1 0 0 0 1 1 1 0 1 0 0 0\n",
      " 1 0 0 1 0 1 0 0 0 1 1 0 0 1 0 0 0 1 0 0 0 1 1 1 0 0 0 0 0 0 0 0 0 0 1 1 0\n",
      " 1 1 1 1 0 0 1 1 1]\n",
      "\n",
      "Precision: 0.9777777777777777\n",
      "Accuracy: 0.9916666666666667\n",
      "Recall: 1.0\n",
      "F1-score: 0.9887640449438202\n",
      "\n",
      "Classification Report:\n",
      "              precision    recall  f1-score   support\n",
      "\n",
      "           0       1.00      0.99      0.99        76\n",
      "           1       0.98      1.00      0.99        44\n",
      "\n",
      "    accuracy                           0.99       120\n",
      "   macro avg       0.99      0.99      0.99       120\n",
      "weighted avg       0.99      0.99      0.99       120\n",
      "\n",
      "\n",
      "Confusion Matrix: \n",
      "[[75  1]\n",
      " [ 0 44]]\n"
     ]
    },
    {
     "data": {
      "image/png": "[encoded data removed]",
      "text/plain": [
       "<Figure size 432x288 with 2 Axes>"
      ]
     },
     "metadata": {
      "needs_background": "light"
     },
     "output_type": "display_data"
    },
    {
     "name": "stdout",
     "output_type": "stream",
     "text": [
      "\n",
      "Features From method 2\n",
      "\n",
      "\n",
      "The no of features are 5\n",
      "\n",
      "Scaled data mean is 6.113205180164576e-15\n",
      "[0 1 0 0 0 0 1 0 1 0 0 1 0 0 0 0 1 1 0 1 0 0 1 1 0 1 0 0 1 0 1 0 1 0 0 0 0\n",
      " 1 0 0 1 0 0 1 0 1 0 0 0 0 0 1 1 0 1 0 0 0 0 0 0 1 1 0 0 0 1 1 1 0 1 0 0 0\n",
      " 1 0 0 1 0 1 0 1 0 1 1 0 0 1 0 0 0 1 0 0 0 1 1 1 0 0 0 0 0 0 0 0 0 0 1 1 0\n",
      " 1 1 1 1 0 0 1 1 1]\n",
      "\n",
      "Precision: 0.9565217391304348\n",
      "Accuracy: 0.9833333333333333\n",
      "Recall: 1.0\n",
      "F1-score: 0.9777777777777777\n",
      "\n",
      "Classification Report:\n",
      "              precision    recall  f1-score   support\n",
      "\n",
      "           0       1.00      0.97      0.99        76\n",
      "           1       0.96      1.00      0.98        44\n",
      "\n",
      "    accuracy                           0.98       120\n",
      "   macro avg       0.98      0.99      0.98       120\n",
      "weighted avg       0.98      0.98      0.98       120\n",
      "\n",
      "\n",
      "Confusion Matrix: \n",
      "[[74  2]\n",
      " [ 0 44]]\n"
     ]
    },
    {
     "data": {
      "image/png": "[encoded data removed]",
      "text/plain": [
       "<Figure size 432x288 with 2 Axes>"
      ]
     },
     "metadata": {
      "needs_background": "light"
     },
     "output_type": "display_data"
    },
    {
     "name": "stdout",
     "output_type": "stream",
     "text": [
      "\n",
      "The no of features are 6\n",
      "\n",
      "Scaled data mean is 5.110726656691137e-15\n",
      "[0 1 0 0 0 0 1 0 0 0 0 1 0 0 0 0 1 1 0 1 0 0 1 1 0 1 0 0 1 0 1 0 1 0 0 0 0\n",
      " 1 0 0 1 0 0 0 0 1 0 0 0 0 0 1 1 0 1 0 0 0 0 0 0 1 1 0 0 0 1 1 1 0 1 0 0 0\n",
      " 1 0 0 1 0 1 0 0 0 1 0 0 0 1 0 0 0 1 0 0 0 1 1 1 0 0 0 0 0 0 0 0 0 0 1 1 0\n",
      " 1 1 1 1 0 0 1 1 1]\n",
      "\n",
      "Precision: 1.0\n",
      "Accuracy: 0.9833333333333333\n",
      "Recall: 0.9545454545454546\n",
      "F1-score: 0.9767441860465117\n",
      "\n",
      "Classification Report:\n",
      "              precision    recall  f1-score   support\n",
      "\n",
      "           0       0.97      1.00      0.99        76\n",
      "           1       1.00      0.95      0.98        44\n",
      "\n",
      "    accuracy                           0.98       120\n",
      "   macro avg       0.99      0.98      0.98       120\n",
      "weighted avg       0.98      0.98      0.98       120\n",
      "\n",
      "\n",
      "Confusion Matrix: \n",
      "[[76  0]\n",
      " [ 2 42]]\n"
     ]
    },
    {
     "data": {
      "image/png": "[encoded data removed]",
      "text/plain": [
       "<Figure size 432x288 with 2 Axes>"
      ]
     },
     "metadata": {
      "needs_background": "light"
     },
     "output_type": "display_data"
    },
    {
     "name": "stdout",
     "output_type": "stream",
     "text": [
      "\n",
      "The no of features are 7\n",
      "\n",
      "Scaled data mean is 4.391045350456232e-15\n",
      "[0 1 0 0 0 0 1 0 1 0 0 1 0 0 0 0 1 1 0 1 0 0 1 1 0 1 0 0 1 0 1 0 1 0 0 0 0\n",
      " 1 0 0 1 0 0 0 0 1 0 0 0 0 0 1 1 0 1 0 0 0 0 0 0 1 1 0 0 0 1 1 1 0 1 0 0 0\n",
      " 1 0 0 1 0 1 0 0 0 1 1 0 0 1 0 0 0 1 0 0 0 1 1 1 0 0 0 0 0 0 0 0 0 0 1 1 0\n",
      " 1 1 1 1 0 0 1 1 1]\n",
      "\n",
      "Precision: 1.0\n",
      "Accuracy: 1.0\n",
      "Recall: 1.0\n",
      "F1-score: 1.0\n",
      "\n",
      "Classification Report:\n",
      "              precision    recall  f1-score   support\n",
      "\n",
      "           0       1.00      1.00      1.00        76\n",
      "           1       1.00      1.00      1.00        44\n",
      "\n",
      "    accuracy                           1.00       120\n",
      "   macro avg       1.00      1.00      1.00       120\n",
      "weighted avg       1.00      1.00      1.00       120\n",
      "\n",
      "\n",
      "Confusion Matrix: \n",
      "[[76  0]\n",
      " [ 0 44]]\n"
     ]
    },
    {
     "data": {
      "image/png": "[encoded data removed]",
      "text/plain": [
       "<Figure size 432x288 with 2 Axes>"
      ]
     },
     "metadata": {
      "needs_background": "light"
     },
     "output_type": "display_data"
    },
    {
     "name": "stdout",
     "output_type": "stream",
     "text": [
      "\n",
      "The no of features are 8\n",
      "\n",
      "Scaled data mean is 3.812624819029712e-15\n",
      "[0 1 0 0 0 0 1 0 1 0 0 1 0 0 0 0 1 1 0 1 0 0 1 1 0 1 0 0 1 0 1 0 1 0 0 0 0\n",
      " 1 0 0 1 0 0 0 0 1 0 0 0 0 0 1 1 0 1 0 0 0 0 0 0 1 1 0 0 0 1 1 1 0 1 0 0 0\n",
      " 1 0 0 1 0 1 0 0 0 1 1 0 0 1 0 0 0 1 0 0 0 1 1 1 0 0 0 0 0 0 0 0 0 0 1 1 0\n",
      " 1 1 1 1 0 0 1 1 1]\n",
      "\n",
      "Precision: 1.0\n",
      "Accuracy: 1.0\n",
      "Recall: 1.0\n",
      "F1-score: 1.0\n",
      "\n",
      "Classification Report:\n",
      "              precision    recall  f1-score   support\n",
      "\n",
      "           0       1.00      1.00      1.00        76\n",
      "           1       1.00      1.00      1.00        44\n",
      "\n",
      "    accuracy                           1.00       120\n",
      "   macro avg       1.00      1.00      1.00       120\n",
      "weighted avg       1.00      1.00      1.00       120\n",
      "\n",
      "\n",
      "Confusion Matrix: \n",
      "[[76  0]\n",
      " [ 0 44]]\n"
     ]
    },
    {
     "data": {
      "image/png": "[encoded data removed]",
      "text/plain": [
       "<Figure size 432x288 with 2 Axes>"
      ]
     },
     "metadata": {
      "needs_background": "light"
     },
     "output_type": "display_data"
    },
    {
     "name": "stdout",
     "output_type": "stream",
     "text": [
      "\n",
      "The no of features are 9\n",
      "\n",
      "Scaled data mean is 3.3870613544913508e-15\n",
      "[0 1 0 0 0 0 1 0 1 0 0 1 0 0 0 0 1 1 0 1 0 0 1 1 0 1 0 0 1 0 1 0 1 0 0 0 0\n",
      " 1 0 0 1 0 0 0 0 1 0 1 0 0 0 1 1 0 1 0 0 0 0 0 0 1 1 0 0 0 1 1 1 0 1 0 0 0\n",
      " 1 0 0 1 0 1 0 0 0 1 1 0 0 1 0 0 0 1 0 0 0 1 1 1 0 0 0 0 0 0 0 0 0 0 1 1 0\n",
      " 1 1 1 1 0 0 1 1 1]\n",
      "\n",
      "Precision: 0.9777777777777777\n",
      "Accuracy: 0.9916666666666667\n",
      "Recall: 1.0\n",
      "F1-score: 0.9887640449438202\n",
      "\n",
      "Classification Report:\n",
      "              precision    recall  f1-score   support\n",
      "\n",
      "           0       1.00      0.99      0.99        76\n",
      "           1       0.98      1.00      0.99        44\n",
      "\n",
      "    accuracy                           0.99       120\n",
      "   macro avg       0.99      0.99      0.99       120\n",
      "weighted avg       0.99      0.99      0.99       120\n",
      "\n",
      "\n",
      "Confusion Matrix: \n",
      "[[75  1]\n",
      " [ 0 44]]\n"
     ]
    },
    {
     "data": {
      "image/png": "[encoded data removed]",
      "text/plain": [
       "<Figure size 432x288 with 2 Axes>"
      ]
     },
     "metadata": {
      "needs_background": "light"
     },
     "output_type": "display_data"
    },
    {
     "name": "stdout",
     "output_type": "stream",
     "text": [
      "\n",
      "The no of features are 10\n",
      "\n",
      "Scaled data mean is 3.0375701953744282e-15\n",
      "[1 1 0 0 0 0 1 0 1 0 0 1 0 0 0 0 1 1 0 1 0 0 1 1 0 1 0 0 1 0 1 0 1 0 0 0 0\n",
      " 1 0 0 1 0 0 0 0 1 0 0 0 0 0 1 1 0 1 0 0 0 0 0 0 0 1 0 0 0 1 1 1 0 1 0 0 0\n",
      " 1 0 0 1 0 1 0 0 0 1 1 0 0 1 0 0 0 1 0 0 0 1 1 1 0 0 0 0 0 0 0 0 0 0 1 1 0\n",
      " 1 1 1 1 0 0 1 1 1]\n",
      "\n",
      "Precision: 0.9772727272727273\n",
      "Accuracy: 0.9833333333333333\n",
      "Recall: 0.9772727272727273\n",
      "F1-score: 0.9772727272727273\n",
      "\n",
      "Classification Report:\n",
      "              precision    recall  f1-score   support\n",
      "\n",
      "           0       0.99      0.99      0.99        76\n",
      "           1       0.98      0.98      0.98        44\n",
      "\n",
      "    accuracy                           0.98       120\n",
      "   macro avg       0.98      0.98      0.98       120\n",
      "weighted avg       0.98      0.98      0.98       120\n",
      "\n",
      "\n",
      "Confusion Matrix: \n",
      "[[75  1]\n",
      " [ 1 43]]\n"
     ]
    },
    {
     "data": {
      "image/png": "[encoded data removed]",
      "text/plain": [
       "<Figure size 432x288 with 2 Axes>"
      ]
     },
     "metadata": {
      "needs_background": "light"
     },
     "output_type": "display_data"
    },
    {
     "name": "stdout",
     "output_type": "stream",
     "text": [
      "Scaled data mean is 1.2089535721721794e-15\n",
      "\n",
      "Features: All Features SVM\n",
      "\n",
      "\n",
      "Precision: 1.0\n",
      "Accuracy: 0.9916666666666667\n",
      "Recall: 0.9772727272727273\n",
      "F1-score: 0.9885057471264368\n",
      "\n",
      "Classification Report:\n",
      "              precision    recall  f1-score   support\n",
      "\n",
      "           0       0.99      1.00      0.99        76\n",
      "           1       1.00      0.98      0.99        44\n",
      "\n",
      "    accuracy                           0.99       120\n",
      "   macro avg       0.99      0.99      0.99       120\n",
      "weighted avg       0.99      0.99      0.99       120\n",
      "\n",
      "\n",
      "Confusion Matrix: \n",
      "[[76  0]\n",
      " [ 1 43]]\n"
     ]
    },
    {
     "data": {
      "image/png": "[encoded data removed]",
      "text/plain": [
       "<Figure size 432x288 with 2 Axes>"
      ]
     },
     "metadata": {
      "needs_background": "light"
     },
     "output_type": "display_data"
    }
   ],
   "source": [
    "#Support vector machine\n",
    "\n",
    "\n",
    "#initialise the Support Vector Model\n",
    "support_vector_machine_model = SVC(random_state = 42)\n",
    "\n",
    "#defining the svc parameters for grid search\n",
    "parameters_grid = {'kernel': ['poly', 'rbf', 'linear', 'sigmoid'], \n",
    "                   'C': [0.1, 1, 10, 100, 1000], \n",
    "                   'gamma': ['scale', 'auto'], \n",
    "                   'shrinking': [True, False]}\n",
    "\n",
    "svm_grid_search = GridSearchCV(support_vector_machine_model, parameters_grid, scoring = 'accuracy')\n",
    "\n",
    "# f = feat_importances.nlargest(5).index\n",
    "# tr = train_features[f.tolist()]\n",
    "# ts = test_features[f.tolist()]\n",
    "# col_name = f.tolist()\n",
    "\n",
    "# scaler = StandardScaler()\n",
    "# tr = scaler.fit_transform(tr)\n",
    "# print(\"Scaled data mean is \" + str(tr.mean()))\n",
    "# ts = scaler.transform(ts)\n",
    "\n",
    "# tr = pd.DataFrame(tr, columns = col_name)\n",
    "# ts = pd.DataFrame(ts, columns = col_name)\n",
    "        \n",
    "# svm_grid_search.fit(tr, train_target)\n",
    "# svm_prediction = svm_grid_search.predict(ts)\n",
    "# print(svm_prediction)\n",
    "\n",
    "for k in range(0,2):\n",
    "    if k==0:\n",
    "        print(\"\\nFeatures From method 1\\n\")\n",
    "    else:\n",
    "        print(\"\\nFeatures From method 2\\n\")\n",
    "    for i in range(5,11):\n",
    "       \n",
    "        if k==0:\n",
    "            print('\\nThe no of features are ' +str(i)+\"\\n\")\n",
    "            f = feat_importances.nlargest(i).index\n",
    "            tr = train_features[f.tolist()]\n",
    "            ts = test_features[f.tolist()]\n",
    "            col_name = f.tolist()\n",
    "        else:\n",
    "            print('\\nThe no of features are ' +str(i)+\"\\n\")\n",
    "            f = featureScores.nlargest(i,'Score').iloc[:,0:1]\n",
    "            tr = train_features[f[\"Specs\"].tolist()]\n",
    "            ts = test_features[f[\"Specs\"].tolist()]\n",
    "            col_name = f[\"Specs\"].tolist()\n",
    "        \n",
    "        scaler = StandardScaler()\n",
    "        tr = scaler.fit_transform(tr)\n",
    "        print(\"Scaled data mean is \" + str(tr.mean()))\n",
    "        ts = scaler.transform(ts)\n",
    "        \n",
    "        tr = pd.DataFrame(tr, columns = col_name)\n",
    "        ts = pd.DataFrame(ts, columns = col_name)\n",
    "        \n",
    "        svm_grid_search.fit(tr, train_target)\n",
    "        svm_prediction = svm_grid_search.predict(ts)\n",
    "        print(svm_prediction)\n",
    "        \n",
    "        print('\\nPrecision: ' + str(metrics.precision_score(test_target, svm_prediction)))\n",
    "        print('Accuracy: ' + str(metrics.accuracy_score(test_target, svm_prediction)))\n",
    "        print('Recall: ' + str(metrics.recall_score(test_target, svm_prediction)))\n",
    "        print('F1-score: ' + str(metrics.f1_score(test_target, svm_prediction)))\n",
    "\n",
    "        print('\\nClassification Report:\\n' + str(metrics.classification_report(test_target, svm_prediction)))\n",
    "        print('\\nConfusion Matrix: \\n' + str(metrics.confusion_matrix(test_target, svm_prediction)))\n",
    "        sns.heatmap(metrics.confusion_matrix(test_target, svm_prediction), annot = True)\n",
    "        plt.show()\n",
    "\n",
    "    \n",
    "    \n",
    "scaler = StandardScaler()\n",
    "tr = scaler.fit_transform(train_features)\n",
    "print(\"Scaled data mean is \" + str(tr.mean()))\n",
    "ts = scaler.transform(test_features)\n",
    "\n",
    "tr = pd.DataFrame(tr, columns = ['age', 'bp', 'sg', 'al', 'su', 'rbc', 'pc', \n",
    "                                                             'pcc', 'ba', 'bgr', 'bu', 'sc', 'sod', 'pot', \n",
    "                                                             'hemo', 'pcv', 'wbcc', 'rbcc', 'htn', 'dm', \n",
    "                                                             'cad', 'appet', 'pe', 'ane'])\n",
    "ts = pd.DataFrame(ts, columns = ['age', 'bp', 'sg', 'al', 'su', 'rbc', 'pc', \n",
    "                                                             'pcc', 'ba', 'bgr', 'bu', 'sc', 'sod', 'pot', \n",
    "                                                             'hemo', 'pcv', 'wbcc', 'rbcc', 'htn', 'dm', \n",
    "                                                             'cad', 'appet', 'pe', 'ane'])\n",
    "\n",
    "print(\"\\nFeatures: All Features SVM\\n\")\n",
    "svm_grid_search.fit(tr, train_target)\n",
    "svm_prediction = svm_grid_search.predict(ts)\n",
    "print('\\nPrecision: ' + str(metrics.precision_score(test_target, svm_prediction)))\n",
    "print('Accuracy: ' + str(metrics.accuracy_score(test_target, svm_prediction)))\n",
    "print('Recall: ' + str(metrics.recall_score(test_target, svm_prediction)))\n",
    "print('F1-score: ' + str(metrics.f1_score(test_target, svm_prediction)))\n",
    "\n",
    "print('\\nClassification Report:\\n' + str(metrics.classification_report(test_target, svm_prediction)))\n",
    "print('\\nConfusion Matrix: \\n' + str(metrics.confusion_matrix(test_target, svm_prediction)))\n",
    "sns.heatmap(metrics.confusion_matrix(test_target, svm_prediction), annot = True)\n",
    "plt.show()"
   ]
  },
  {
   "cell_type": "code",
   "execution_count": 43,
   "id": "6e620005",
   "metadata": {},
   "outputs": [
    {
     "name": "stdout",
     "output_type": "stream",
     "text": [
      "\n",
      "Features From method 1\n",
      "\n",
      "\n",
      "The no of features are 5\n",
      "\n",
      "Scaled data mean is 6.11637724594922e-15\n",
      "\n",
      "Precision: 0.9555555555555556\n",
      "Accuracy: 0.975\n",
      "Recall: 0.9772727272727273\n",
      "F1-score: 0.9662921348314608\n",
      "\n",
      "Classification Report:\n",
      "              precision    recall  f1-score   support\n",
      "\n",
      "           0       0.99      0.97      0.98        76\n",
      "           1       0.96      0.98      0.97        44\n",
      "\n",
      "    accuracy                           0.97       120\n",
      "   macro avg       0.97      0.98      0.97       120\n",
      "weighted avg       0.98      0.97      0.98       120\n",
      "\n",
      "\n",
      "Confusion Matrix: \n",
      "[[74  2]\n",
      " [ 1 43]]\n"
     ]
    },
    {
     "data": {
      "image/png": "[encoded data removed]",
      "text/plain": [
       "<Figure size 432x288 with 2 Axes>"
      ]
     },
     "metadata": {
      "needs_background": "light"
     },
     "output_type": "display_data"
    },
    {
     "name": "stdout",
     "output_type": "stream",
     "text": [
      "\n",
      "The no of features are 6\n",
      "\n",
      "Scaled data mean is 5.0964523606602424e-15\n",
      "\n",
      "Precision: 0.9555555555555556\n",
      "Accuracy: 0.975\n",
      "Recall: 0.9772727272727273\n",
      "F1-score: 0.9662921348314608\n",
      "\n",
      "Classification Report:\n",
      "              precision    recall  f1-score   support\n",
      "\n",
      "           0       0.99      0.97      0.98        76\n",
      "           1       0.96      0.98      0.97        44\n",
      "\n",
      "    accuracy                           0.97       120\n",
      "   macro avg       0.97      0.98      0.97       120\n",
      "weighted avg       0.98      0.97      0.98       120\n",
      "\n",
      "\n",
      "Confusion Matrix: \n",
      "[[74  2]\n",
      " [ 1 43]]\n"
     ]
    },
    {
     "data": {
      "image/png": "[encoded data removed]",
      "text/plain": [
       "<Figure size 432x288 with 2 Axes>"
      ]
     },
     "metadata": {
      "needs_background": "light"
     },
     "output_type": "display_data"
    },
    {
     "name": "stdout",
     "output_type": "stream",
     "text": [
      "\n",
      "The no of features are 7\n",
      "\n",
      "Scaled data mean is 4.351167952020716e-15\n",
      "\n",
      "Precision: 0.9772727272727273\n",
      "Accuracy: 0.9833333333333333\n",
      "Recall: 0.9772727272727273\n",
      "F1-score: 0.9772727272727273\n",
      "\n",
      "Classification Report:\n",
      "              precision    recall  f1-score   support\n",
      "\n",
      "           0       0.99      0.99      0.99        76\n",
      "           1       0.98      0.98      0.98        44\n",
      "\n",
      "    accuracy                           0.98       120\n",
      "   macro avg       0.98      0.98      0.98       120\n",
      "weighted avg       0.98      0.98      0.98       120\n",
      "\n",
      "\n",
      "Confusion Matrix: \n",
      "[[75  1]\n",
      " [ 1 43]]\n"
     ]
    },
    {
     "data": {
      "image/png": "[encoded data removed]",
      "text/plain": [
       "<Figure size 432x288 with 2 Axes>"
      ]
     },
     "metadata": {
      "needs_background": "light"
     },
     "output_type": "display_data"
    },
    {
     "name": "stdout",
     "output_type": "stream",
     "text": [
      "\n",
      "The no of features are 8\n",
      "\n",
      "Scaled data mean is 3.806478941571965e-15\n",
      "\n",
      "Precision: 0.9555555555555556\n",
      "Accuracy: 0.975\n",
      "Recall: 0.9772727272727273\n",
      "F1-score: 0.9662921348314608\n",
      "\n",
      "Classification Report:\n",
      "              precision    recall  f1-score   support\n",
      "\n",
      "           0       0.99      0.97      0.98        76\n",
      "           1       0.96      0.98      0.97        44\n",
      "\n",
      "    accuracy                           0.97       120\n",
      "   macro avg       0.97      0.98      0.97       120\n",
      "weighted avg       0.98      0.97      0.98       120\n",
      "\n",
      "\n",
      "Confusion Matrix: \n",
      "[[74  2]\n",
      " [ 1 43]]\n"
     ]
    },
    {
     "data": {
      "image/png": "[encoded data removed]",
      "text/plain": [
       "<Figure size 432x288 with 2 Axes>"
      ]
     },
     "metadata": {
      "needs_background": "light"
     },
     "output_type": "display_data"
    },
    {
     "name": "stdout",
     "output_type": "stream",
     "text": [
      "\n",
      "The no of features are 9\n",
      "\n",
      "Scaled data mean is 3.3778976088912698e-15\n",
      "\n",
      "Precision: 0.9555555555555556\n",
      "Accuracy: 0.975\n",
      "Recall: 0.9772727272727273\n",
      "F1-score: 0.9662921348314608\n",
      "\n",
      "Classification Report:\n",
      "              precision    recall  f1-score   support\n",
      "\n",
      "           0       0.99      0.97      0.98        76\n",
      "           1       0.96      0.98      0.97        44\n",
      "\n",
      "    accuracy                           0.97       120\n",
      "   macro avg       0.97      0.98      0.97       120\n",
      "weighted avg       0.98      0.97      0.98       120\n",
      "\n",
      "\n",
      "Confusion Matrix: \n",
      "[[74  2]\n",
      " [ 1 43]]\n"
     ]
    },
    {
     "data": {
      "image/png": "[encoded data removed]",
      "text/plain": [
       "<Figure size 432x288 with 2 Axes>"
      ]
     },
     "metadata": {
      "needs_background": "light"
     },
     "output_type": "display_data"
    },
    {
     "name": "stdout",
     "output_type": "stream",
     "text": [
      "\n",
      "The no of features are 10\n",
      "\n",
      "Scaled data mean is 2.9497039731398087e-15\n",
      "\n",
      "Precision: 1.0\n",
      "Accuracy: 1.0\n",
      "Recall: 1.0\n",
      "F1-score: 1.0\n",
      "\n",
      "Classification Report:\n",
      "              precision    recall  f1-score   support\n",
      "\n",
      "           0       1.00      1.00      1.00        76\n",
      "           1       1.00      1.00      1.00        44\n",
      "\n",
      "    accuracy                           1.00       120\n",
      "   macro avg       1.00      1.00      1.00       120\n",
      "weighted avg       1.00      1.00      1.00       120\n",
      "\n",
      "\n",
      "Confusion Matrix: \n",
      "[[76  0]\n",
      " [ 0 44]]\n"
     ]
    },
    {
     "data": {
      "image/png": "[encoded data removed]",
      "text/plain": [
       "<Figure size 432x288 with 2 Axes>"
      ]
     },
     "metadata": {
      "needs_background": "light"
     },
     "output_type": "display_data"
    },
    {
     "name": "stdout",
     "output_type": "stream",
     "text": [
      "\n",
      "Features From method 2\n",
      "\n",
      "\n",
      "The no of features are 5\n",
      "\n",
      "Scaled data mean is 6.113205180164576e-15\n",
      "\n",
      "Precision: 0.9555555555555556\n",
      "Accuracy: 0.975\n",
      "Recall: 0.9772727272727273\n",
      "F1-score: 0.9662921348314608\n",
      "\n",
      "Classification Report:\n",
      "              precision    recall  f1-score   support\n",
      "\n",
      "           0       0.99      0.97      0.98        76\n",
      "           1       0.96      0.98      0.97        44\n",
      "\n",
      "    accuracy                           0.97       120\n",
      "   macro avg       0.97      0.98      0.97       120\n",
      "weighted avg       0.98      0.97      0.98       120\n",
      "\n",
      "\n",
      "Confusion Matrix: \n",
      "[[74  2]\n",
      " [ 1 43]]\n"
     ]
    },
    {
     "data": {
      "image/png": "[encoded data removed]",
      "text/plain": [
       "<Figure size 432x288 with 2 Axes>"
      ]
     },
     "metadata": {
      "needs_background": "light"
     },
     "output_type": "display_data"
    },
    {
     "name": "stdout",
     "output_type": "stream",
     "text": [
      "\n",
      "The no of features are 6\n",
      "\n",
      "Scaled data mean is 5.110726656691137e-15\n",
      "\n",
      "Precision: 1.0\n",
      "Accuracy: 0.9916666666666667\n",
      "Recall: 0.9772727272727273\n",
      "F1-score: 0.9885057471264368\n",
      "\n",
      "Classification Report:\n",
      "              precision    recall  f1-score   support\n",
      "\n",
      "           0       0.99      1.00      0.99        76\n",
      "           1       1.00      0.98      0.99        44\n",
      "\n",
      "    accuracy                           0.99       120\n",
      "   macro avg       0.99      0.99      0.99       120\n",
      "weighted avg       0.99      0.99      0.99       120\n",
      "\n",
      "\n",
      "Confusion Matrix: \n",
      "[[76  0]\n",
      " [ 1 43]]\n"
     ]
    },
    {
     "data": {
      "image/png": "[encoded data removed]",
      "text/plain": [
       "<Figure size 432x288 with 2 Axes>"
      ]
     },
     "metadata": {
      "needs_background": "light"
     },
     "output_type": "display_data"
    },
    {
     "name": "stdout",
     "output_type": "stream",
     "text": [
      "\n",
      "The no of features are 7\n",
      "\n",
      "Scaled data mean is 4.391045350456232e-15\n",
      "\n",
      "Precision: 1.0\n",
      "Accuracy: 0.9833333333333333\n",
      "Recall: 0.9545454545454546\n",
      "F1-score: 0.9767441860465117\n",
      "\n",
      "Classification Report:\n",
      "              precision    recall  f1-score   support\n",
      "\n",
      "           0       0.97      1.00      0.99        76\n",
      "           1       1.00      0.95      0.98        44\n",
      "\n",
      "    accuracy                           0.98       120\n",
      "   macro avg       0.99      0.98      0.98       120\n",
      "weighted avg       0.98      0.98      0.98       120\n",
      "\n",
      "\n",
      "Confusion Matrix: \n",
      "[[76  0]\n",
      " [ 2 42]]\n"
     ]
    },
    {
     "data": {
      "image/png": "[encoded data removed]",
      "text/plain": [
       "<Figure size 432x288 with 2 Axes>"
      ]
     },
     "metadata": {
      "needs_background": "light"
     },
     "output_type": "display_data"
    },
    {
     "name": "stdout",
     "output_type": "stream",
     "text": [
      "\n",
      "The no of features are 8\n",
      "\n",
      "Scaled data mean is 3.812624819029712e-15\n",
      "\n",
      "Precision: 1.0\n",
      "Accuracy: 0.9833333333333333\n",
      "Recall: 0.9545454545454546\n",
      "F1-score: 0.9767441860465117\n",
      "\n",
      "Classification Report:\n",
      "              precision    recall  f1-score   support\n",
      "\n",
      "           0       0.97      1.00      0.99        76\n",
      "           1       1.00      0.95      0.98        44\n",
      "\n",
      "    accuracy                           0.98       120\n",
      "   macro avg       0.99      0.98      0.98       120\n",
      "weighted avg       0.98      0.98      0.98       120\n",
      "\n",
      "\n",
      "Confusion Matrix: \n",
      "[[76  0]\n",
      " [ 2 42]]\n"
     ]
    },
    {
     "data": {
      "image/png": "[encoded data removed]",
      "text/plain": [
       "<Figure size 432x288 with 2 Axes>"
      ]
     },
     "metadata": {
      "needs_background": "light"
     },
     "output_type": "display_data"
    },
    {
     "name": "stdout",
     "output_type": "stream",
     "text": [
      "\n",
      "The no of features are 9\n",
      "\n",
      "Scaled data mean is 3.3870613544913508e-15\n",
      "\n",
      "Precision: 1.0\n",
      "Accuracy: 0.9833333333333333\n",
      "Recall: 0.9545454545454546\n",
      "F1-score: 0.9767441860465117\n",
      "\n",
      "Classification Report:\n",
      "              precision    recall  f1-score   support\n",
      "\n",
      "           0       0.97      1.00      0.99        76\n",
      "           1       1.00      0.95      0.98        44\n",
      "\n",
      "    accuracy                           0.98       120\n",
      "   macro avg       0.99      0.98      0.98       120\n",
      "weighted avg       0.98      0.98      0.98       120\n",
      "\n",
      "\n",
      "Confusion Matrix: \n",
      "[[76  0]\n",
      " [ 2 42]]\n"
     ]
    },
    {
     "data": {
      "image/png": "[encoded data removed]",
      "text/plain": [
       "<Figure size 432x288 with 2 Axes>"
      ]
     },
     "metadata": {
      "needs_background": "light"
     },
     "output_type": "display_data"
    },
    {
     "name": "stdout",
     "output_type": "stream",
     "text": [
      "\n",
      "The no of features are 10\n",
      "\n",
      "Scaled data mean is 3.0375701953744282e-15\n",
      "\n",
      "Precision: 0.9777777777777777\n",
      "Accuracy: 0.9916666666666667\n",
      "Recall: 1.0\n",
      "F1-score: 0.9887640449438202\n",
      "\n",
      "Classification Report:\n",
      "              precision    recall  f1-score   support\n",
      "\n",
      "           0       1.00      0.99      0.99        76\n",
      "           1       0.98      1.00      0.99        44\n",
      "\n",
      "    accuracy                           0.99       120\n",
      "   macro avg       0.99      0.99      0.99       120\n",
      "weighted avg       0.99      0.99      0.99       120\n",
      "\n",
      "\n",
      "Confusion Matrix: \n",
      "[[75  1]\n",
      " [ 0 44]]\n"
     ]
    },
    {
     "data": {
      "image/png": "[encoded data removed]",
      "text/plain": [
       "<Figure size 432x288 with 2 Axes>"
      ]
     },
     "metadata": {
      "needs_background": "light"
     },
     "output_type": "display_data"
    },
    {
     "name": "stdout",
     "output_type": "stream",
     "text": [
      "Scaled data mean is 1.2089535721721794e-15\n",
      "\n",
      "Features: All Features KNN\n",
      "\n",
      "\n",
      "Precision: 0.6451612903225806\n",
      "Accuracy: 0.7833333333333333\n",
      "Recall: 0.9090909090909091\n",
      "F1-score: 0.7547169811320754\n"
     ]
    }
   ],
   "source": [
    "#K-Nearest Neighbour\n",
    "\n",
    "from sklearn.neighbors import KNeighborsClassifier\n",
    "\n",
    "#initialise the k nearest neighbour Model\n",
    "k_nearest_neighbour_model = KNeighborsClassifier()\n",
    "\n",
    "#defining the knn parameters for grid search\n",
    "knn_parameters_grid = {'n_neighbors': [1, 2, 3, 4, 5, 6, 7, 8, 9, 10], \n",
    "                       'weights': ['uniform', 'distance'], \n",
    "                       'algorithm':['auto', 'ball_tree','kd_tree','brute'], \n",
    "                       'n_jobs':[1, -1]}\n",
    "\n",
    "\n",
    "knn_grid_search = GridSearchCV(k_nearest_neighbour_model, knn_parameters_grid, scoring = 'accuracy')\n",
    "\n",
    "\n",
    "for k in range(0,2):\n",
    "    if k==0:\n",
    "        print(\"\\nFeatures From method 1\\n\")\n",
    "    else:\n",
    "        print(\"\\nFeatures From method 2\\n\")\n",
    "    for i in range(5,11):\n",
    "        if k==0:\n",
    "            print('\\nThe no of features are ' +str(i)+\"\\n\")\n",
    "            f = feat_importances.nlargest(i).index\n",
    "            tr = train_features[f.tolist()]\n",
    "            ts = test_features[f.tolist()]\n",
    "            col_name = f.tolist()\n",
    "        elif k==1:\n",
    "            print('\\nThe no of features are ' +str(i)+\"\\n\")\n",
    "            f = featureScores.nlargest(i,'Score').iloc[:,0:1]\n",
    "            tr = train_features[f[\"Specs\"].tolist()]\n",
    "            ts = test_features[f[\"Specs\"].tolist()]\n",
    "            col_name = f[\"Specs\"].tolist()\n",
    "            \n",
    "        scaler = StandardScaler()\n",
    "        tr = scaler.fit_transform(tr)\n",
    "        print(\"Scaled data mean is \" + str(tr.mean()))\n",
    "        ts = scaler.transform(ts)\n",
    "        \n",
    "        tr = pd.DataFrame(tr, columns = col_name)\n",
    "        ts = pd.DataFrame(ts, columns = col_name)\n",
    "        \n",
    "            \n",
    "        knn_grid_search.fit(tr, train_target)\n",
    "\n",
    "    #     print('The best parameters are:\\n ' +str(knn_grid_search.best_params_))\n",
    "    #     print('\\nThe best model after gridsearch is:\\n ' + str(knn_grid_search.best_estimator_))\n",
    "        knn_prediction = knn_grid_search.predict(ts)\n",
    "\n",
    "        #Performance Measure\n",
    "        print('\\nPrecision: ' + str(metrics.precision_score(test_target, knn_prediction)))\n",
    "        print('Accuracy: ' + str(metrics.accuracy_score(test_target, knn_prediction)))\n",
    "        print('Recall: ' + str(metrics.recall_score(test_target, knn_prediction)))\n",
    "        print('F1-score: ' + str(metrics.f1_score(test_target, knn_prediction)))\n",
    "\n",
    "\n",
    "        print('\\nClassification Report:\\n' + str(metrics.classification_report(test_target, knn_prediction)))\n",
    "        print('\\nConfusion Matrix: \\n' + str(metrics.confusion_matrix(test_target, knn_prediction)))\n",
    "        sns.heatmap(metrics.confusion_matrix(test_target, knn_prediction), annot = True)\n",
    "        plt.show()\n",
    "    \n",
    "    \n",
    "\n",
    "scaler = StandardScaler()\n",
    "tr = scaler.fit_transform(train_features)\n",
    "print(\"Scaled data mean is \" + str(tr.mean()))\n",
    "ts = scaler.transform(test_features)\n",
    "\n",
    "tr = pd.DataFrame(tr, columns = ['age', 'bp', 'sg', 'al', 'su', 'rbc', 'pc', \n",
    "                                                             'pcc', 'ba', 'bgr', 'bu', 'sc', 'sod', 'pot', \n",
    "                                                             'hemo', 'pcv', 'wbcc', 'rbcc', 'htn', 'dm', \n",
    "                                                             'cad', 'appet', 'pe', 'ane'])\n",
    "ts = pd.DataFrame(ts, columns = ['age', 'bp', 'sg', 'al', 'su', 'rbc', 'pc', \n",
    "                                                             'pcc', 'ba', 'bgr', 'bu', 'sc', 'sod', 'pot', \n",
    "                                                             'hemo', 'pcv', 'wbcc', 'rbcc', 'htn', 'dm', \n",
    "                                                             'cad', 'appet', 'pe', 'ane'])\n",
    "        \n",
    "print(\"\\nFeatures: All Features KNN\\n\")\n",
    "knn_grid_search.fit(train_features, train_target)\n",
    "knn_prediction = knn_grid_search.predict(test_features)\n",
    "print('\\nPrecision: ' + str(metrics.precision_score(test_target, knn_prediction)))\n",
    "print('Accuracy: ' + str(metrics.accuracy_score(test_target, knn_prediction)))\n",
    "print('Recall: ' + str(metrics.recall_score(test_target, knn_prediction)))\n",
    "print('F1-score: ' + str(metrics.f1_score(test_target, knn_prediction)))"
   ]
  },
  {
   "cell_type": "code",
   "execution_count": 46,
   "id": "c2b4bd71",
   "metadata": {},
   "outputs": [
    {
     "name": "stdout",
     "output_type": "stream",
     "text": [
      "\n",
      "Features From method 1\n",
      "\n",
      "\n",
      "The no of features are 5\n",
      "\n",
      "Scaled data mean is 6.11637724594922e-15\n",
      "\n",
      "Precision: 0.9777777777777777\n",
      "Accuracy: 0.9916666666666667\n",
      "Recall: 1.0\n",
      "F1-score: 0.9887640449438202\n",
      "\n",
      "Classification Report:\n",
      "              precision    recall  f1-score   support\n",
      "\n",
      "           0       1.00      0.99      0.99        76\n",
      "           1       0.98      1.00      0.99        44\n",
      "\n",
      "    accuracy                           0.99       120\n",
      "   macro avg       0.99      0.99      0.99       120\n",
      "weighted avg       0.99      0.99      0.99       120\n",
      "\n",
      "\n",
      "Confusion Matrix: \n",
      "[[75  1]\n",
      " [ 0 44]]\n"
     ]
    },
    {
     "data": {
      "image/png": "[encoded data removed]",
      "text/plain": [
       "<Figure size 432x288 with 2 Axes>"
      ]
     },
     "metadata": {
      "needs_background": "light"
     },
     "output_type": "display_data"
    },
    {
     "name": "stdout",
     "output_type": "stream",
     "text": [
      "\n",
      "The no of features are 6\n",
      "\n",
      "Scaled data mean is 5.0964523606602424e-15\n",
      "\n",
      "Precision: 0.9772727272727273\n",
      "Accuracy: 0.9833333333333333\n",
      "Recall: 0.9772727272727273\n",
      "F1-score: 0.9772727272727273\n",
      "\n",
      "Classification Report:\n",
      "              precision    recall  f1-score   support\n",
      "\n",
      "           0       0.99      0.99      0.99        76\n",
      "           1       0.98      0.98      0.98        44\n",
      "\n",
      "    accuracy                           0.98       120\n",
      "   macro avg       0.98      0.98      0.98       120\n",
      "weighted avg       0.98      0.98      0.98       120\n",
      "\n",
      "\n",
      "Confusion Matrix: \n",
      "[[75  1]\n",
      " [ 1 43]]\n"
     ]
    },
    {
     "data": {
      "image/png": "[encoded data removed]",
      "text/plain": [
       "<Figure size 432x288 with 2 Axes>"
      ]
     },
     "metadata": {
      "needs_background": "light"
     },
     "output_type": "display_data"
    },
    {
     "name": "stdout",
     "output_type": "stream",
     "text": [
      "\n",
      "The no of features are 7\n",
      "\n",
      "Scaled data mean is 4.351167952020716e-15\n",
      "\n",
      "Precision: 1.0\n",
      "Accuracy: 1.0\n",
      "Recall: 1.0\n",
      "F1-score: 1.0\n",
      "\n",
      "Classification Report:\n",
      "              precision    recall  f1-score   support\n",
      "\n",
      "           0       1.00      1.00      1.00        76\n",
      "           1       1.00      1.00      1.00        44\n",
      "\n",
      "    accuracy                           1.00       120\n",
      "   macro avg       1.00      1.00      1.00       120\n",
      "weighted avg       1.00      1.00      1.00       120\n",
      "\n",
      "\n",
      "Confusion Matrix: \n",
      "[[76  0]\n",
      " [ 0 44]]\n"
     ]
    },
    {
     "data": {
      "image/png": "[encoded data removed]",
      "text/plain": [
       "<Figure size 432x288 with 2 Axes>"
      ]
     },
     "metadata": {
      "needs_background": "light"
     },
     "output_type": "display_data"
    },
    {
     "name": "stdout",
     "output_type": "stream",
     "text": [
      "\n",
      "The no of features are 8\n",
      "\n",
      "Scaled data mean is 3.806478941571965e-15\n",
      "\n",
      "Precision: 1.0\n",
      "Accuracy: 1.0\n",
      "Recall: 1.0\n",
      "F1-score: 1.0\n",
      "\n",
      "Classification Report:\n",
      "              precision    recall  f1-score   support\n",
      "\n",
      "           0       1.00      1.00      1.00        76\n",
      "           1       1.00      1.00      1.00        44\n",
      "\n",
      "    accuracy                           1.00       120\n",
      "   macro avg       1.00      1.00      1.00       120\n",
      "weighted avg       1.00      1.00      1.00       120\n",
      "\n",
      "\n",
      "Confusion Matrix: \n",
      "[[76  0]\n",
      " [ 0 44]]\n"
     ]
    },
    {
     "data": {
      "image/png": "[encoded data removed]",
      "text/plain": [
       "<Figure size 432x288 with 2 Axes>"
      ]
     },
     "metadata": {
      "needs_background": "light"
     },
     "output_type": "display_data"
    },
    {
     "name": "stdout",
     "output_type": "stream",
     "text": [
      "\n",
      "The no of features are 9\n",
      "\n",
      "Scaled data mean is 3.3778976088912698e-15\n",
      "\n",
      "Precision: 0.9777777777777777\n",
      "Accuracy: 0.9916666666666667\n",
      "Recall: 1.0\n",
      "F1-score: 0.9887640449438202\n",
      "\n",
      "Classification Report:\n",
      "              precision    recall  f1-score   support\n",
      "\n",
      "           0       1.00      0.99      0.99        76\n",
      "           1       0.98      1.00      0.99        44\n",
      "\n",
      "    accuracy                           0.99       120\n",
      "   macro avg       0.99      0.99      0.99       120\n",
      "weighted avg       0.99      0.99      0.99       120\n",
      "\n",
      "\n",
      "Confusion Matrix: \n",
      "[[75  1]\n",
      " [ 0 44]]\n"
     ]
    },
    {
     "data": {
      "image/png": "[encoded data removed]",
      "text/plain": [
       "<Figure size 432x288 with 2 Axes>"
      ]
     },
     "metadata": {
      "needs_background": "light"
     },
     "output_type": "display_data"
    },
    {
     "name": "stdout",
     "output_type": "stream",
     "text": [
      "\n",
      "The no of features are 10\n",
      "\n",
      "Scaled data mean is 2.9497039731398087e-15\n",
      "\n",
      "Precision: 0.9777777777777777\n",
      "Accuracy: 0.9916666666666667\n",
      "Recall: 1.0\n",
      "F1-score: 0.9887640449438202\n",
      "\n",
      "Classification Report:\n",
      "              precision    recall  f1-score   support\n",
      "\n",
      "           0       1.00      0.99      0.99        76\n",
      "           1       0.98      1.00      0.99        44\n",
      "\n",
      "    accuracy                           0.99       120\n",
      "   macro avg       0.99      0.99      0.99       120\n",
      "weighted avg       0.99      0.99      0.99       120\n",
      "\n",
      "\n",
      "Confusion Matrix: \n",
      "[[75  1]\n",
      " [ 0 44]]\n"
     ]
    },
    {
     "data": {
      "image/png": "[encoded data removed]",
      "text/plain": [
       "<Figure size 432x288 with 2 Axes>"
      ]
     },
     "metadata": {
      "needs_background": "light"
     },
     "output_type": "display_data"
    },
    {
     "name": "stdout",
     "output_type": "stream",
     "text": [
      "\n",
      "Features From method 2\n",
      "\n",
      "\n",
      "The no of features are 5\n",
      "\n",
      "Scaled data mean is 6.113205180164576e-15\n",
      "\n",
      "Precision: 0.9772727272727273\n",
      "Accuracy: 0.9833333333333333\n",
      "Recall: 0.9772727272727273\n",
      "F1-score: 0.9772727272727273\n",
      "\n",
      "Classification Report:\n",
      "              precision    recall  f1-score   support\n",
      "\n",
      "           0       0.99      0.99      0.99        76\n",
      "           1       0.98      0.98      0.98        44\n",
      "\n",
      "    accuracy                           0.98       120\n",
      "   macro avg       0.98      0.98      0.98       120\n",
      "weighted avg       0.98      0.98      0.98       120\n",
      "\n",
      "\n",
      "Confusion Matrix: \n",
      "[[75  1]\n",
      " [ 1 43]]\n"
     ]
    },
    {
     "data": {
      "image/png": "[encoded data removed]",
      "text/plain": [
       "<Figure size 432x288 with 2 Axes>"
      ]
     },
     "metadata": {
      "needs_background": "light"
     },
     "output_type": "display_data"
    },
    {
     "name": "stdout",
     "output_type": "stream",
     "text": [
      "\n",
      "The no of features are 6\n",
      "\n",
      "Scaled data mean is 5.110726656691137e-15\n",
      "\n",
      "Precision: 1.0\n",
      "Accuracy: 0.9916666666666667\n",
      "Recall: 0.9772727272727273\n",
      "F1-score: 0.9885057471264368\n",
      "\n",
      "Classification Report:\n",
      "              precision    recall  f1-score   support\n",
      "\n",
      "           0       0.99      1.00      0.99        76\n",
      "           1       1.00      0.98      0.99        44\n",
      "\n",
      "    accuracy                           0.99       120\n",
      "   macro avg       0.99      0.99      0.99       120\n",
      "weighted avg       0.99      0.99      0.99       120\n",
      "\n",
      "\n",
      "Confusion Matrix: \n",
      "[[76  0]\n",
      " [ 1 43]]\n"
     ]
    },
    {
     "data": {
      "image/png": "[encoded data removed]",
      "text/plain": [
       "<Figure size 432x288 with 2 Axes>"
      ]
     },
     "metadata": {
      "needs_background": "light"
     },
     "output_type": "display_data"
    },
    {
     "name": "stdout",
     "output_type": "stream",
     "text": [
      "\n",
      "The no of features are 7\n",
      "\n",
      "Scaled data mean is 4.391045350456232e-15\n",
      "\n",
      "Precision: 1.0\n",
      "Accuracy: 0.9916666666666667\n",
      "Recall: 0.9772727272727273\n",
      "F1-score: 0.9885057471264368\n",
      "\n",
      "Classification Report:\n",
      "              precision    recall  f1-score   support\n",
      "\n",
      "           0       0.99      1.00      0.99        76\n",
      "           1       1.00      0.98      0.99        44\n",
      "\n",
      "    accuracy                           0.99       120\n",
      "   macro avg       0.99      0.99      0.99       120\n",
      "weighted avg       0.99      0.99      0.99       120\n",
      "\n",
      "\n",
      "Confusion Matrix: \n",
      "[[76  0]\n",
      " [ 1 43]]\n"
     ]
    },
    {
     "data": {
      "image/png": "[encoded data removed]",
      "text/plain": [
       "<Figure size 432x288 with 2 Axes>"
      ]
     },
     "metadata": {
      "needs_background": "light"
     },
     "output_type": "display_data"
    },
    {
     "name": "stdout",
     "output_type": "stream",
     "text": [
      "\n",
      "The no of features are 8\n",
      "\n",
      "Scaled data mean is 3.812624819029712e-15\n",
      "\n",
      "Precision: 1.0\n",
      "Accuracy: 1.0\n",
      "Recall: 1.0\n",
      "F1-score: 1.0\n",
      "\n",
      "Classification Report:\n",
      "              precision    recall  f1-score   support\n",
      "\n",
      "           0       1.00      1.00      1.00        76\n",
      "           1       1.00      1.00      1.00        44\n",
      "\n",
      "    accuracy                           1.00       120\n",
      "   macro avg       1.00      1.00      1.00       120\n",
      "weighted avg       1.00      1.00      1.00       120\n",
      "\n",
      "\n",
      "Confusion Matrix: \n",
      "[[76  0]\n",
      " [ 0 44]]\n"
     ]
    },
    {
     "data": {
      "image/png": "[encoded data removed]",
      "text/plain": [
       "<Figure size 432x288 with 2 Axes>"
      ]
     },
     "metadata": {
      "needs_background": "light"
     },
     "output_type": "display_data"
    },
    {
     "name": "stdout",
     "output_type": "stream",
     "text": [
      "\n",
      "The no of features are 9\n",
      "\n",
      "Scaled data mean is 3.3870613544913508e-15\n",
      "\n",
      "Precision: 0.9772727272727273\n",
      "Accuracy: 0.9833333333333333\n",
      "Recall: 0.9772727272727273\n",
      "F1-score: 0.9772727272727273\n",
      "\n",
      "Classification Report:\n",
      "              precision    recall  f1-score   support\n",
      "\n",
      "           0       0.99      0.99      0.99        76\n",
      "           1       0.98      0.98      0.98        44\n",
      "\n",
      "    accuracy                           0.98       120\n",
      "   macro avg       0.98      0.98      0.98       120\n",
      "weighted avg       0.98      0.98      0.98       120\n",
      "\n",
      "\n",
      "Confusion Matrix: \n",
      "[[75  1]\n",
      " [ 1 43]]\n"
     ]
    },
    {
     "data": {
      "image/png": "[encoded data removed]",
      "text/plain": [
       "<Figure size 432x288 with 2 Axes>"
      ]
     },
     "metadata": {
      "needs_background": "light"
     },
     "output_type": "display_data"
    },
    {
     "name": "stdout",
     "output_type": "stream",
     "text": [
      "\n",
      "The no of features are 10\n",
      "\n",
      "Scaled data mean is 3.0375701953744282e-15\n",
      "\n",
      "Precision: 0.9772727272727273\n",
      "Accuracy: 0.9833333333333333\n",
      "Recall: 0.9772727272727273\n",
      "F1-score: 0.9772727272727273\n",
      "\n",
      "Classification Report:\n",
      "              precision    recall  f1-score   support\n",
      "\n",
      "           0       0.99      0.99      0.99        76\n",
      "           1       0.98      0.98      0.98        44\n",
      "\n",
      "    accuracy                           0.98       120\n",
      "   macro avg       0.98      0.98      0.98       120\n",
      "weighted avg       0.98      0.98      0.98       120\n",
      "\n",
      "\n",
      "Confusion Matrix: \n",
      "[[75  1]\n",
      " [ 1 43]]\n"
     ]
    },
    {
     "data": {
      "image/png": "[encoded data removed]",
      "text/plain": [
       "<Figure size 432x288 with 2 Axes>"
      ]
     },
     "metadata": {
      "needs_background": "light"
     },
     "output_type": "display_data"
    },
    {
     "name": "stdout",
     "output_type": "stream",
     "text": [
      "Scaled data mean is 1.2089535721721794e-15\n",
      "\n",
      "Features: All Features DT\n",
      "\n",
      "\n",
      "Precision: 0.9772727272727273\n",
      "Accuracy: 0.9833333333333333\n",
      "Recall: 0.9772727272727273\n",
      "F1-score: 0.9772727272727273\n"
     ]
    }
   ],
   "source": [
    "#Decision tree\n",
    "\n",
    "from sklearn.tree import DecisionTreeClassifier\n",
    "\n",
    "#initialise the decision tree Model\n",
    "decision_tree_model = DecisionTreeClassifier(random_state = 42)\n",
    "\n",
    "#defining the decision tree parameters for grid search\n",
    "dt_parameters_grid = {'criterion': ['gini', 'entropy'], \n",
    "                      'splitter': ['best', 'random'], \n",
    "                      'min_samples_leaf': [1, 2, 3, 4, 5], \n",
    "                      'max_features': ['auto', 'sqrt', 'log2']}\n",
    "\n",
    "\n",
    "dt_grid_search = GridSearchCV(decision_tree_model, dt_parameters_grid, scoring = 'accuracy')\n",
    "\n",
    "\n",
    "for k in range(0,2):\n",
    "    if k==0:\n",
    "        print(\"\\nFeatures From method 1\\n\")\n",
    "    else:\n",
    "        print(\"\\nFeatures From method 2\\n\")\n",
    "    for i in range(5,11):\n",
    "        if k==0:\n",
    "            print('\\nThe no of features are ' +str(i)+\"\\n\")\n",
    "            f = feat_importances.nlargest(i).index\n",
    "            tr = train_features[f.tolist()]\n",
    "            ts = test_features[f.tolist()]\n",
    "            col_name = f.tolist()\n",
    "            \n",
    "        else:\n",
    "            print('\\nThe no of features are ' +str(i)+\"\\n\")\n",
    "            f = featureScores.nlargest(i,'Score').iloc[:,0:1]\n",
    "            tr = train_features[f[\"Specs\"].tolist()]\n",
    "            ts = test_features[f[\"Specs\"].tolist()]\n",
    "            col_name = f[\"Specs\"].tolist()\n",
    "      \n",
    "    \n",
    "        scaler = StandardScaler()\n",
    "        tr = scaler.fit_transform(tr)\n",
    "        print(\"Scaled data mean is \" + str(tr.mean()))\n",
    "        ts = scaler.transform(ts)\n",
    "        \n",
    "        tr = pd.DataFrame(tr, columns = col_name)\n",
    "        ts = pd.DataFrame(ts, columns = col_name)\n",
    "            \n",
    "            \n",
    "        dt_grid_search.fit(tr, train_target)\n",
    "\n",
    "    #     print('The best parameters are:\\n ' +str(dt_grid_search.best_params_))\n",
    "    #     print('\\nThe best model after gridsearch is:\\n ' + str(dt_grid_search.best_estimator_))\n",
    "        dt_prediction = dt_grid_search.predict(ts)\n",
    "        \n",
    "        print('\\nPrecision: ' + str(metrics.precision_score(test_target, dt_prediction)))\n",
    "        print('Accuracy: ' + str(metrics.accuracy_score(test_target, dt_prediction)))\n",
    "        print('Recall: ' + str(metrics.recall_score(test_target, dt_prediction)))\n",
    "        print('F1-score: ' + str(metrics.f1_score(test_target, dt_prediction)))\n",
    "\n",
    "\n",
    "        print('\\nClassification Report:\\n' + str(metrics.classification_report(test_target, dt_prediction)))\n",
    "        print('\\nConfusion Matrix: \\n' + str(metrics.confusion_matrix(test_target, dt_prediction)))\n",
    "        sns.heatmap(metrics.confusion_matrix(test_target, dt_prediction), annot = True)\n",
    "        plt.show()\n",
    "    \n",
    "    \n",
    "scaler = StandardScaler()\n",
    "tr = scaler.fit_transform(train_features)\n",
    "print(\"Scaled data mean is \" + str(tr.mean()))\n",
    "ts = scaler.transform(test_features)\n",
    "\n",
    "tr = pd.DataFrame(tr, columns = ['age', 'bp', 'sg', 'al', 'su', 'rbc', 'pc', \n",
    "                                                             'pcc', 'ba', 'bgr', 'bu', 'sc', 'sod', 'pot', \n",
    "                                                             'hemo', 'pcv', 'wbcc', 'rbcc', 'htn', 'dm', \n",
    "                                                             'cad', 'appet', 'pe', 'ane'])\n",
    "ts = pd.DataFrame(ts, columns = ['age', 'bp', 'sg', 'al', 'su', 'rbc', 'pc', \n",
    "                                                             'pcc', 'ba', 'bgr', 'bu', 'sc', 'sod', 'pot', \n",
    "                                                             'hemo', 'pcv', 'wbcc', 'rbcc', 'htn', 'dm', \n",
    "                                                             'cad', 'appet', 'pe', 'ane'])\n",
    "    \n",
    "print(\"\\nFeatures: All Features DT\\n\")\n",
    "dt_grid_search.fit(train_features, train_target)\n",
    "dt_prediction = dt_grid_search.predict(test_features)\n",
    "print('\\nPrecision: ' + str(metrics.precision_score(test_target, dt_prediction)))\n",
    "print('Accuracy: ' + str(metrics.accuracy_score(test_target, dt_prediction)))\n",
    "print('Recall: ' + str(metrics.recall_score(test_target, dt_prediction)))\n",
    "print('F1-score: ' + str(metrics.f1_score(test_target, dt_prediction)))\n"
   ]
  },
  {
   "cell_type": "markdown",
   "id": "74fc0d2d",
   "metadata": {},
   "source": [
    "| Classification Algorithm | Accuracy (%) | Recall (%)| Precision (%) | F1-score (%)|\n",
    "|---|---|---|---|---|\n",
    "|Support Vector Machine|99.16|97.72|100|98.85|\n",
    "|K Nearest Neighbour   |95|93.18|93.18|93.18|\n",
    "|Decision Tree         |97.5|97.72|95.55|96.62|"
   ]
  },
  {
   "cell_type": "markdown",
   "id": "6e352485",
   "metadata": {},
   "source": [
    "## Deep Learning Models"
   ]
  },
  {
   "cell_type": "code",
   "execution_count": 21,
   "id": "e218bc85",
   "metadata": {},
   "outputs": [],
   "source": [
    "import keras\n",
    "from keras import models, layers, optimizers\n",
    "from keras.utils import np_utils\n",
    "from sklearn.metrics import confusion_matrix\n",
    "from keras.layers import Input\n",
    "from keras.models import Sequential, Model\n",
    "import tensorflow as tf\n",
    "import random as rn"
   ]
  },
  {
   "cell_type": "code",
   "execution_count": 22,
   "id": "3addfde5",
   "metadata": {},
   "outputs": [],
   "source": [
    "batch_size = 256\n",
    "n_epochs = 10\n",
    "n_nodes = 16\n",
    "nb_classes = 2\n",
    "weight = 0.2\n",
    "class_weight = {0: weight, 1: (1-weight)}\n",
    "dropout = 0.1\n",
    "lr = 0.01\n",
    "n_basic_features = 24\n",
    "n_features = n_basic_features\n",
    "n_cnn_features = n_features\n",
    "n_filters = 16\n",
    "kernel_size_3 = 3"
   ]
  },
  {
   "cell_type": "code",
   "execution_count": 25,
   "id": "6f3446fa",
   "metadata": {
    "scrolled": true
   },
   "outputs": [
    {
     "name": "stdout",
     "output_type": "stream",
     "text": [
      "\n",
      "The no of features are 5\n",
      "\n",
      "     hemo     sg  rbcc   al   pcv\n",
      "0    15.4  1.020   5.2  1.0  44.0\n",
      "1    11.3  1.020   0.0  4.0  38.0\n",
      "2     9.6  1.010   0.0  2.0  31.0\n",
      "3    11.2  1.005   3.9  4.0  32.0\n",
      "4    11.6  1.010   4.6  2.0  35.0\n",
      "..    ...    ...   ...  ...   ...\n",
      "395  15.7  1.020   4.9  0.0  47.0\n",
      "396  16.5  1.025   6.2  0.0  54.0\n",
      "397  15.8  1.020   5.4  0.0  49.0\n",
      "398  14.2  1.025   5.9  0.0  51.0\n",
      "399  15.8  1.025   6.1  0.0  53.0\n",
      "\n",
      "[400 rows x 5 columns]\n",
      "\n",
      "The no of features are 6\n",
      "\n",
      "     hemo     sg  rbcc   al   pcv  htn\n",
      "0    15.4  1.020   5.2  1.0  44.0  0.0\n",
      "1    11.3  1.020   0.0  4.0  38.0  1.0\n",
      "2     9.6  1.010   0.0  2.0  31.0  1.0\n",
      "3    11.2  1.005   3.9  4.0  32.0  0.0\n",
      "4    11.6  1.010   4.6  2.0  35.0  1.0\n",
      "..    ...    ...   ...  ...   ...  ...\n",
      "395  15.7  1.020   4.9  0.0  47.0  1.0\n",
      "396  16.5  1.025   6.2  0.0  54.0  1.0\n",
      "397  15.8  1.020   5.4  0.0  49.0  1.0\n",
      "398  14.2  1.025   5.9  0.0  51.0  1.0\n",
      "399  15.8  1.025   6.1  0.0  53.0  1.0\n",
      "\n",
      "[400 rows x 6 columns]\n",
      "\n",
      "The no of features are 7\n",
      "\n",
      "     hemo     sg  rbcc   al   pcv  htn   dm\n",
      "0    15.4  1.020   5.2  1.0  44.0  0.0  0.0\n",
      "1    11.3  1.020   0.0  4.0  38.0  1.0  1.0\n",
      "2     9.6  1.010   0.0  2.0  31.0  1.0  0.0\n",
      "3    11.2  1.005   3.9  4.0  32.0  0.0  1.0\n",
      "4    11.6  1.010   4.6  2.0  35.0  1.0  1.0\n",
      "..    ...    ...   ...  ...   ...  ...  ...\n",
      "395  15.7  1.020   4.9  0.0  47.0  1.0  1.0\n",
      "396  16.5  1.025   6.2  0.0  54.0  1.0  1.0\n",
      "397  15.8  1.020   5.4  0.0  49.0  1.0  1.0\n",
      "398  14.2  1.025   5.9  0.0  51.0  1.0  1.0\n",
      "399  15.8  1.025   6.1  0.0  53.0  1.0  1.0\n",
      "\n",
      "[400 rows x 7 columns]\n",
      "\n",
      "The no of features are 8\n",
      "\n",
      "     hemo     sg  rbcc   al   pcv  htn   dm    bgr\n",
      "0    15.4  1.020   5.2  1.0  44.0  0.0  0.0  121.0\n",
      "1    11.3  1.020   0.0  4.0  38.0  1.0  1.0  121.2\n",
      "2     9.6  1.010   0.0  2.0  31.0  1.0  0.0  423.0\n",
      "3    11.2  1.005   3.9  4.0  32.0  0.0  1.0  117.0\n",
      "4    11.6  1.010   4.6  2.0  35.0  1.0  1.0  106.0\n",
      "..    ...    ...   ...  ...   ...  ...  ...    ...\n",
      "395  15.7  1.020   4.9  0.0  47.0  1.0  1.0  140.0\n",
      "396  16.5  1.025   6.2  0.0  54.0  1.0  1.0   75.0\n",
      "397  15.8  1.020   5.4  0.0  49.0  1.0  1.0  100.0\n",
      "398  14.2  1.025   5.9  0.0  51.0  1.0  1.0  114.0\n",
      "399  15.8  1.025   6.1  0.0  53.0  1.0  1.0  131.0\n",
      "\n",
      "[400 rows x 8 columns]\n",
      "\n",
      "The no of features are 9\n",
      "\n",
      "     hemo     sg  rbcc   al   pcv  htn   dm    bgr  appet\n",
      "0    15.4  1.020   5.2  1.0  44.0  0.0  0.0  121.0    1.0\n",
      "1    11.3  1.020   0.0  4.0  38.0  1.0  1.0  121.2    1.0\n",
      "2     9.6  1.010   0.0  2.0  31.0  1.0  0.0  423.0    0.0\n",
      "3    11.2  1.005   3.9  4.0  32.0  0.0  1.0  117.0    0.0\n",
      "4    11.6  1.010   4.6  2.0  35.0  1.0  1.0  106.0    1.0\n",
      "..    ...    ...   ...  ...   ...  ...  ...    ...    ...\n",
      "395  15.7  1.020   4.9  0.0  47.0  1.0  1.0  140.0    1.0\n",
      "396  16.5  1.025   6.2  0.0  54.0  1.0  1.0   75.0    1.0\n",
      "397  15.8  1.020   5.4  0.0  49.0  1.0  1.0  100.0    1.0\n",
      "398  14.2  1.025   5.9  0.0  51.0  1.0  1.0  114.0    1.0\n",
      "399  15.8  1.025   6.1  0.0  53.0  1.0  1.0  131.0    1.0\n",
      "\n",
      "[400 rows x 9 columns]\n",
      "\n",
      "The no of features are 10\n",
      "\n",
      "     hemo     sg  rbcc   al   pcv  htn   dm    bgr  appet    bu\n",
      "0    15.4  1.020   5.2  1.0  44.0  0.0  0.0  121.0    1.0  36.0\n",
      "1    11.3  1.020   0.0  4.0  38.0  1.0  1.0  121.2    1.0  18.0\n",
      "2     9.6  1.010   0.0  2.0  31.0  1.0  0.0  423.0    0.0  53.0\n",
      "3    11.2  1.005   3.9  4.0  32.0  0.0  1.0  117.0    0.0  56.0\n",
      "4    11.6  1.010   4.6  2.0  35.0  1.0  1.0  106.0    1.0  26.0\n",
      "..    ...    ...   ...  ...   ...  ...  ...    ...    ...   ...\n",
      "395  15.7  1.020   4.9  0.0  47.0  1.0  1.0  140.0    1.0  49.0\n",
      "396  16.5  1.025   6.2  0.0  54.0  1.0  1.0   75.0    1.0  31.0\n",
      "397  15.8  1.020   5.4  0.0  49.0  1.0  1.0  100.0    1.0  26.0\n",
      "398  14.2  1.025   5.9  0.0  51.0  1.0  1.0  114.0    1.0  50.0\n",
      "399  15.8  1.025   6.1  0.0  53.0  1.0  1.0  131.0    1.0  18.0\n",
      "\n",
      "[400 rows x 10 columns]\n"
     ]
    }
   ],
   "source": [
    "\n",
    "for i in range(5,11):\n",
    "    print('\\nThe no of features are ' +str(i)+\"\\n\")\n",
    "    f = featureScores.nlargest(i,'Score').iloc[:,0:1]\n",
    "    tr = feature_classes[f[\"Specs\"].tolist()]\n",
    "    print(tr)"
   ]
  },
  {
   "cell_type": "code",
   "execution_count": 27,
   "id": "72f28cfc",
   "metadata": {},
   "outputs": [
    {
     "data": {
      "text/html": [
       "<div>\n",
       "<style scoped>\n",
       "    .dataframe tbody tr th:only-of-type {\n",
       "        vertical-align: middle;\n",
       "    }\n",
       "\n",
       "    .dataframe tbody tr th {\n",
       "        vertical-align: top;\n",
       "    }\n",
       "\n",
       "    .dataframe thead th {\n",
       "        text-align: right;\n",
       "    }\n",
       "</style>\n",
       "<table border=\"1\" class=\"dataframe\">\n",
       "  <thead>\n",
       "    <tr style=\"text-align: right;\">\n",
       "      <th></th>\n",
       "      <th>class</th>\n",
       "    </tr>\n",
       "  </thead>\n",
       "  <tbody>\n",
       "    <tr>\n",
       "      <th>0</th>\n",
       "      <td>0</td>\n",
       "    </tr>\n",
       "    <tr>\n",
       "      <th>1</th>\n",
       "      <td>0</td>\n",
       "    </tr>\n",
       "    <tr>\n",
       "      <th>2</th>\n",
       "      <td>0</td>\n",
       "    </tr>\n",
       "    <tr>\n",
       "      <th>3</th>\n",
       "      <td>0</td>\n",
       "    </tr>\n",
       "    <tr>\n",
       "      <th>4</th>\n",
       "      <td>0</td>\n",
       "    </tr>\n",
       "    <tr>\n",
       "      <th>...</th>\n",
       "      <td>...</td>\n",
       "    </tr>\n",
       "    <tr>\n",
       "      <th>395</th>\n",
       "      <td>1</td>\n",
       "    </tr>\n",
       "    <tr>\n",
       "      <th>396</th>\n",
       "      <td>1</td>\n",
       "    </tr>\n",
       "    <tr>\n",
       "      <th>397</th>\n",
       "      <td>1</td>\n",
       "    </tr>\n",
       "    <tr>\n",
       "      <th>398</th>\n",
       "      <td>1</td>\n",
       "    </tr>\n",
       "    <tr>\n",
       "      <th>399</th>\n",
       "      <td>1</td>\n",
       "    </tr>\n",
       "  </tbody>\n",
       "</table>\n",
       "<p>400 rows × 1 columns</p>\n",
       "</div>"
      ],
      "text/plain": [
       "     class\n",
       "0        0\n",
       "1        0\n",
       "2        0\n",
       "3        0\n",
       "4        0\n",
       "..     ...\n",
       "395      1\n",
       "396      1\n",
       "397      1\n",
       "398      1\n",
       "399      1\n",
       "\n",
       "[400 rows x 1 columns]"
      ]
     },
     "execution_count": 27,
     "metadata": {},
     "output_type": "execute_result"
    }
   ],
   "source": [
    "target_class"
   ]
  },
  {
   "cell_type": "code",
   "execution_count": 30,
   "id": "aa5195fa",
   "metadata": {},
   "outputs": [
    {
     "name": "stdout",
     "output_type": "stream",
     "text": [
      "\n",
      "Features From method 1\n",
      "\n",
      "\n",
      "The no of features are 5\n",
      "\n",
      "Epoch 1/10\n",
      "2/2 [==============================] - 2s 477ms/step - loss: 0.2681 - accuracy: 0.5536 - val_loss: 0.4927 - val_accuracy: 0.8750\n",
      "Epoch 2/10\n",
      "2/2 [==============================] - 0s 43ms/step - loss: 0.0995 - accuracy: 0.8786 - val_loss: 0.4089 - val_accuracy: 0.8750\n",
      "Epoch 3/10\n",
      "2/2 [==============================] - 0s 43ms/step - loss: 0.0740 - accuracy: 0.9107 - val_loss: 0.3734 - val_accuracy: 0.8750\n",
      "Epoch 4/10\n",
      "2/2 [==============================] - 0s 48ms/step - loss: 0.0670 - accuracy: 0.9214 - val_loss: 0.3606 - val_accuracy: 0.8750\n",
      "Epoch 5/10\n",
      "2/2 [==============================] - 0s 41ms/step - loss: 0.0714 - accuracy: 0.9071 - val_loss: 0.3589 - val_accuracy: 0.8750\n",
      "Epoch 6/10\n",
      "2/2 [==============================] - 0s 40ms/step - loss: 0.0575 - accuracy: 0.9429 - val_loss: 0.3564 - val_accuracy: 0.8833\n",
      "Epoch 7/10\n",
      "2/2 [==============================] - 0s 41ms/step - loss: 0.0542 - accuracy: 0.9500 - val_loss: 0.3526 - val_accuracy: 0.8833\n",
      "Epoch 8/10\n",
      "2/2 [==============================] - 0s 35ms/step - loss: 0.0524 - accuracy: 0.9429 - val_loss: 0.3456 - val_accuracy: 0.8917\n",
      "Epoch 9/10\n",
      "2/2 [==============================] - 0s 47ms/step - loss: 0.0492 - accuracy: 0.9536 - val_loss: 0.3396 - val_accuracy: 0.9000\n",
      "Epoch 10/10\n",
      "2/2 [==============================] - 0s 47ms/step - loss: 0.0499 - accuracy: 0.9500 - val_loss: 0.3348 - val_accuracy: 0.9000\n",
      "4/4 [==============================] - 0s 2ms/step\n",
      "\n",
      "Precision: 0.7857142857142857\n",
      "Accuracy: 0.9\n",
      "Recall: 1.0\n",
      "F1-score: 0.88\n",
      "\n",
      "Classification Report:\n",
      "              precision    recall  f1-score   support\n",
      "\n",
      "           0       1.00      0.84      0.91        76\n",
      "           1       0.79      1.00      0.88        44\n",
      "\n",
      "    accuracy                           0.90       120\n",
      "   macro avg       0.89      0.92      0.90       120\n",
      "weighted avg       0.92      0.90      0.90       120\n",
      "\n",
      "\n",
      "Confusion Matrix: \n",
      "[[64 12]\n",
      " [ 0 44]]\n"
     ]
    },
    {
     "data": {
      "image/png": "[encoded data removed]",
      "text/plain": [
       "<Figure size 432x288 with 2 Axes>"
      ]
     },
     "metadata": {
      "needs_background": "light"
     },
     "output_type": "display_data"
    },
    {
     "name": "stdout",
     "output_type": "stream",
     "text": [
      "\n",
      "Features From method 1\n",
      "\n",
      "\n",
      "The no of features are 6\n",
      "\n",
      "Epoch 1/10\n",
      "2/2 [==============================] - 2s 331ms/step - loss: 0.4731 - accuracy: 0.3107 - val_loss: 0.5844 - val_accuracy: 0.9167\n",
      "Epoch 2/10\n",
      "2/2 [==============================] - 0s 42ms/step - loss: 0.1447 - accuracy: 0.8750 - val_loss: 0.5025 - val_accuracy: 0.8750\n",
      "Epoch 3/10\n",
      "2/2 [==============================] - 0s 43ms/step - loss: 0.0940 - accuracy: 0.9286 - val_loss: 0.4535 - val_accuracy: 0.8667\n",
      "Epoch 4/10\n",
      "2/2 [==============================] - 0s 44ms/step - loss: 0.0739 - accuracy: 0.9321 - val_loss: 0.4247 - val_accuracy: 0.8417\n",
      "Epoch 5/10\n",
      "2/2 [==============================] - 0s 43ms/step - loss: 0.0646 - accuracy: 0.9321 - val_loss: 0.4065 - val_accuracy: 0.8417\n",
      "Epoch 6/10\n",
      "2/2 [==============================] - 0s 39ms/step - loss: 0.0615 - accuracy: 0.9071 - val_loss: 0.3955 - val_accuracy: 0.8417\n",
      "Epoch 7/10\n",
      "2/2 [==============================] - 0s 46ms/step - loss: 0.0570 - accuracy: 0.9214 - val_loss: 0.3877 - val_accuracy: 0.8500\n",
      "Epoch 8/10\n",
      "2/2 [==============================] - 0s 45ms/step - loss: 0.0518 - accuracy: 0.9357 - val_loss: 0.3866 - val_accuracy: 0.8583\n",
      "Epoch 9/10\n",
      "2/2 [==============================] - 0s 42ms/step - loss: 0.0514 - accuracy: 0.9321 - val_loss: 0.3907 - val_accuracy: 0.8667\n",
      "Epoch 10/10\n",
      "2/2 [==============================] - 0s 44ms/step - loss: 0.0487 - accuracy: 0.9357 - val_loss: 0.3955 - val_accuracy: 0.8500\n",
      "4/4 [==============================] - 0s 3ms/step\n",
      "\n",
      "Precision: 0.7096774193548387\n",
      "Accuracy: 0.85\n",
      "Recall: 1.0\n",
      "F1-score: 0.8301886792452831\n",
      "\n",
      "Classification Report:\n",
      "              precision    recall  f1-score   support\n",
      "\n",
      "           0       1.00      0.76      0.87        76\n",
      "           1       0.71      1.00      0.83        44\n",
      "\n",
      "    accuracy                           0.85       120\n",
      "   macro avg       0.85      0.88      0.85       120\n",
      "weighted avg       0.89      0.85      0.85       120\n",
      "\n",
      "\n",
      "Confusion Matrix: \n",
      "[[58 18]\n",
      " [ 0 44]]\n"
     ]
    },
    {
     "data": {
      "image/png": "[encoded data removed]",
      "text/plain": [
       "<Figure size 432x288 with 2 Axes>"
      ]
     },
     "metadata": {
      "needs_background": "light"
     },
     "output_type": "display_data"
    },
    {
     "name": "stdout",
     "output_type": "stream",
     "text": [
      "\n",
      "Features From method 1\n",
      "\n",
      "\n",
      "The no of features are 7\n",
      "\n",
      "Epoch 1/10\n",
      "2/2 [==============================] - 2s 344ms/step - loss: 0.3447 - accuracy: 0.4143 - val_loss: 0.5536 - val_accuracy: 0.7000\n",
      "Epoch 2/10\n",
      "2/2 [==============================] - 0s 43ms/step - loss: 0.1208 - accuracy: 0.7429 - val_loss: 0.4587 - val_accuracy: 0.8583\n",
      "Epoch 3/10\n",
      "2/2 [==============================] - 0s 37ms/step - loss: 0.0753 - accuracy: 0.8607 - val_loss: 0.3877 - val_accuracy: 0.8917\n",
      "Epoch 4/10\n",
      "2/2 [==============================] - 0s 39ms/step - loss: 0.0647 - accuracy: 0.9179 - val_loss: 0.3347 - val_accuracy: 0.8917\n",
      "Epoch 5/10\n",
      "2/2 [==============================] - 0s 42ms/step - loss: 0.0659 - accuracy: 0.9250 - val_loss: 0.3009 - val_accuracy: 0.8917\n",
      "Epoch 6/10\n",
      "2/2 [==============================] - 0s 48ms/step - loss: 0.0525 - accuracy: 0.9393 - val_loss: 0.2803 - val_accuracy: 0.8917\n",
      "Epoch 7/10\n",
      "2/2 [==============================] - 0s 38ms/step - loss: 0.0492 - accuracy: 0.9357 - val_loss: 0.2653 - val_accuracy: 0.8917\n",
      "Epoch 8/10\n",
      "2/2 [==============================] - 0s 39ms/step - loss: 0.0463 - accuracy: 0.9464 - val_loss: 0.2560 - val_accuracy: 0.8917\n",
      "Epoch 9/10\n",
      "2/2 [==============================] - 0s 39ms/step - loss: 0.0443 - accuracy: 0.9500 - val_loss: 0.2521 - val_accuracy: 0.8917\n",
      "Epoch 10/10\n",
      "2/2 [==============================] - 0s 41ms/step - loss: 0.0368 - accuracy: 0.9500 - val_loss: 0.2482 - val_accuracy: 0.9083\n",
      "4/4 [==============================] - 0s 3ms/step\n",
      "\n",
      "Precision: 0.8\n",
      "Accuracy: 0.9083333333333333\n",
      "Recall: 1.0\n",
      "F1-score: 0.888888888888889\n",
      "\n",
      "Classification Report:\n",
      "              precision    recall  f1-score   support\n",
      "\n",
      "           0       1.00      0.86      0.92        76\n",
      "           1       0.80      1.00      0.89        44\n",
      "\n",
      "    accuracy                           0.91       120\n",
      "   macro avg       0.90      0.93      0.91       120\n",
      "weighted avg       0.93      0.91      0.91       120\n",
      "\n",
      "\n",
      "Confusion Matrix: \n",
      "[[65 11]\n",
      " [ 0 44]]\n"
     ]
    },
    {
     "data": {
      "image/png": "[encoded data removed]",
      "text/plain": [
       "<Figure size 432x288 with 2 Axes>"
      ]
     },
     "metadata": {
      "needs_background": "light"
     },
     "output_type": "display_data"
    },
    {
     "name": "stdout",
     "output_type": "stream",
     "text": [
      "\n",
      "Features From method 1\n",
      "\n",
      "\n",
      "The no of features are 8\n",
      "\n",
      "Epoch 1/10\n",
      "2/2 [==============================] - 2s 330ms/step - loss: 0.4189 - accuracy: 0.3714 - val_loss: 0.5681 - val_accuracy: 0.8083\n",
      "Epoch 2/10\n",
      "2/2 [==============================] - 0s 43ms/step - loss: 0.1446 - accuracy: 0.9036 - val_loss: 0.4568 - val_accuracy: 0.8333\n",
      "Epoch 3/10\n",
      "2/2 [==============================] - 0s 39ms/step - loss: 0.0796 - accuracy: 0.9429 - val_loss: 0.3908 - val_accuracy: 0.8417\n",
      "Epoch 4/10\n",
      "2/2 [==============================] - 0s 41ms/step - loss: 0.0620 - accuracy: 0.9357 - val_loss: 0.3517 - val_accuracy: 0.8667\n",
      "Epoch 5/10\n",
      "2/2 [==============================] - 0s 39ms/step - loss: 0.0532 - accuracy: 0.9286 - val_loss: 0.3304 - val_accuracy: 0.8833\n",
      "Epoch 6/10\n",
      "2/2 [==============================] - 0s 39ms/step - loss: 0.0494 - accuracy: 0.9464 - val_loss: 0.3189 - val_accuracy: 0.8833\n",
      "Epoch 7/10\n",
      "2/2 [==============================] - 0s 40ms/step - loss: 0.0462 - accuracy: 0.9321 - val_loss: 0.3117 - val_accuracy: 0.8833\n",
      "Epoch 8/10\n",
      "2/2 [==============================] - 0s 42ms/step - loss: 0.0397 - accuracy: 0.9429 - val_loss: 0.3050 - val_accuracy: 0.9000\n",
      "Epoch 9/10\n",
      "2/2 [==============================] - 0s 41ms/step - loss: 0.0331 - accuracy: 0.9714 - val_loss: 0.2986 - val_accuracy: 0.9083\n",
      "Epoch 10/10\n",
      "2/2 [==============================] - 0s 44ms/step - loss: 0.0304 - accuracy: 0.9607 - val_loss: 0.2953 - val_accuracy: 0.9167\n",
      "4/4 [==============================] - 0s 3ms/step\n",
      "\n",
      "Precision: 0.8148148148148148\n",
      "Accuracy: 0.9166666666666666\n",
      "Recall: 1.0\n",
      "F1-score: 0.8979591836734693\n",
      "\n",
      "Classification Report:\n",
      "              precision    recall  f1-score   support\n",
      "\n",
      "           0       1.00      0.87      0.93        76\n",
      "           1       0.81      1.00      0.90        44\n",
      "\n",
      "    accuracy                           0.92       120\n",
      "   macro avg       0.91      0.93      0.91       120\n",
      "weighted avg       0.93      0.92      0.92       120\n",
      "\n",
      "\n",
      "Confusion Matrix: \n",
      "[[66 10]\n",
      " [ 0 44]]\n"
     ]
    },
    {
     "data": {
      "image/png": "[encoded data removed]",
      "text/plain": [
       "<Figure size 432x288 with 2 Axes>"
      ]
     },
     "metadata": {
      "needs_background": "light"
     },
     "output_type": "display_data"
    },
    {
     "name": "stdout",
     "output_type": "stream",
     "text": [
      "\n",
      "Features From method 1\n",
      "\n",
      "\n",
      "The no of features are 9\n",
      "\n",
      "Epoch 1/10\n",
      "2/2 [==============================] - 2s 319ms/step - loss: 0.4220 - accuracy: 0.4429 - val_loss: 0.5284 - val_accuracy: 0.8417\n",
      "Epoch 2/10\n",
      "2/2 [==============================] - 0s 44ms/step - loss: 0.0837 - accuracy: 0.9071 - val_loss: 0.3884 - val_accuracy: 0.9250\n",
      "Epoch 3/10\n",
      "2/2 [==============================] - 0s 45ms/step - loss: 0.0506 - accuracy: 0.9357 - val_loss: 0.3018 - val_accuracy: 0.9333\n",
      "Epoch 4/10\n",
      "2/2 [==============================] - 0s 40ms/step - loss: 0.0404 - accuracy: 0.9500 - val_loss: 0.2468 - val_accuracy: 0.9417\n",
      "Epoch 5/10\n",
      "2/2 [==============================] - 0s 42ms/step - loss: 0.0412 - accuracy: 0.9357 - val_loss: 0.2112 - val_accuracy: 0.9583\n",
      "Epoch 6/10\n",
      "2/2 [==============================] - 0s 41ms/step - loss: 0.0343 - accuracy: 0.9643 - val_loss: 0.1865 - val_accuracy: 0.9583\n",
      "Epoch 7/10\n",
      "2/2 [==============================] - 0s 40ms/step - loss: 0.0324 - accuracy: 0.9643 - val_loss: 0.1706 - val_accuracy: 0.9667\n",
      "Epoch 8/10\n",
      "2/2 [==============================] - 0s 40ms/step - loss: 0.0312 - accuracy: 0.9714 - val_loss: 0.1575 - val_accuracy: 0.9667\n",
      "Epoch 9/10\n",
      "2/2 [==============================] - 0s 40ms/step - loss: 0.0325 - accuracy: 0.9643 - val_loss: 0.1469 - val_accuracy: 0.9667\n",
      "Epoch 10/10\n",
      "2/2 [==============================] - 0s 44ms/step - loss: 0.0362 - accuracy: 0.9607 - val_loss: 0.1341 - val_accuracy: 0.9667\n",
      "4/4 [==============================] - 0s 2ms/step\n",
      "\n",
      "Precision: 0.9166666666666666\n",
      "Accuracy: 0.9666666666666667\n",
      "Recall: 1.0\n",
      "F1-score: 0.9565217391304348\n",
      "\n",
      "Classification Report:\n",
      "              precision    recall  f1-score   support\n",
      "\n",
      "           0       1.00      0.95      0.97        76\n",
      "           1       0.92      1.00      0.96        44\n",
      "\n",
      "    accuracy                           0.97       120\n",
      "   macro avg       0.96      0.97      0.96       120\n",
      "weighted avg       0.97      0.97      0.97       120\n",
      "\n",
      "\n",
      "Confusion Matrix: \n",
      "[[72  4]\n",
      " [ 0 44]]\n"
     ]
    },
    {
     "data": {
      "image/png": "[encoded data removed]",
      "text/plain": [
       "<Figure size 432x288 with 2 Axes>"
      ]
     },
     "metadata": {
      "needs_background": "light"
     },
     "output_type": "display_data"
    },
    {
     "name": "stdout",
     "output_type": "stream",
     "text": [
      "\n",
      "Features From method 1\n",
      "\n",
      "\n",
      "The no of features are 10\n",
      "\n",
      "Epoch 1/10\n",
      "2/2 [==============================] - 2s 322ms/step - loss: 0.2639 - accuracy: 0.6893 - val_loss: 0.5038 - val_accuracy: 0.8333\n",
      "Epoch 2/10\n",
      "2/2 [==============================] - 0s 40ms/step - loss: 0.0712 - accuracy: 0.9179 - val_loss: 0.4126 - val_accuracy: 0.8417\n",
      "Epoch 3/10\n",
      "2/2 [==============================] - 0s 43ms/step - loss: 0.0600 - accuracy: 0.9107 - val_loss: 0.3636 - val_accuracy: 0.8667\n",
      "Epoch 4/10\n",
      "2/2 [==============================] - 0s 42ms/step - loss: 0.0494 - accuracy: 0.9321 - val_loss: 0.3348 - val_accuracy: 0.8750\n",
      "Epoch 5/10\n",
      "2/2 [==============================] - 0s 43ms/step - loss: 0.0462 - accuracy: 0.9393 - val_loss: 0.3192 - val_accuracy: 0.8750\n",
      "Epoch 6/10\n",
      "2/2 [==============================] - 0s 43ms/step - loss: 0.0412 - accuracy: 0.9357 - val_loss: 0.3127 - val_accuracy: 0.8833\n",
      "Epoch 7/10\n",
      "2/2 [==============================] - 0s 41ms/step - loss: 0.0415 - accuracy: 0.9357 - val_loss: 0.3125 - val_accuracy: 0.8833\n",
      "Epoch 8/10\n",
      "2/2 [==============================] - 0s 41ms/step - loss: 0.0322 - accuracy: 0.9500 - val_loss: 0.3114 - val_accuracy: 0.8750\n",
      "Epoch 9/10\n",
      "2/2 [==============================] - 0s 41ms/step - loss: 0.0361 - accuracy: 0.9357 - val_loss: 0.3110 - val_accuracy: 0.8750\n",
      "Epoch 10/10\n",
      "2/2 [==============================] - 0s 37ms/step - loss: 0.0255 - accuracy: 0.9643 - val_loss: 0.3089 - val_accuracy: 0.8917\n",
      "4/4 [==============================] - 0s 2ms/step\n",
      "\n",
      "Precision: 0.7719298245614035\n",
      "Accuracy: 0.8916666666666667\n",
      "Recall: 1.0\n",
      "F1-score: 0.8712871287128713\n",
      "\n",
      "Classification Report:\n",
      "              precision    recall  f1-score   support\n",
      "\n",
      "           0       1.00      0.83      0.91        76\n",
      "           1       0.77      1.00      0.87        44\n",
      "\n",
      "    accuracy                           0.89       120\n",
      "   macro avg       0.89      0.91      0.89       120\n",
      "weighted avg       0.92      0.89      0.89       120\n",
      "\n",
      "\n",
      "Confusion Matrix: \n",
      "[[63 13]\n",
      " [ 0 44]]\n"
     ]
    },
    {
     "data": {
      "image/png": "[encoded data removed]",
      "text/plain": [
       "<Figure size 432x288 with 2 Axes>"
      ]
     },
     "metadata": {
      "needs_background": "light"
     },
     "output_type": "display_data"
    },
    {
     "name": "stdout",
     "output_type": "stream",
     "text": [
      "\n",
      "Features From method 2\n",
      "\n",
      "\n",
      "The no of features are 5\n",
      "\n",
      "Epoch 1/10\n",
      "2/2 [==============================] - 2s 319ms/step - loss: 0.1947 - accuracy: 0.5107 - val_loss: 0.5259 - val_accuracy: 0.7917\n",
      "Epoch 2/10\n",
      "2/2 [==============================] - 0s 40ms/step - loss: 0.0923 - accuracy: 0.8929 - val_loss: 0.4648 - val_accuracy: 0.8583\n",
      "Epoch 3/10\n",
      "2/2 [==============================] - 0s 43ms/step - loss: 0.0732 - accuracy: 0.9429 - val_loss: 0.4290 - val_accuracy: 0.8917\n",
      "Epoch 4/10\n",
      "2/2 [==============================] - 0s 40ms/step - loss: 0.0667 - accuracy: 0.9500 - val_loss: 0.4000 - val_accuracy: 0.9000\n",
      "Epoch 5/10\n",
      "2/2 [==============================] - 0s 40ms/step - loss: 0.0604 - accuracy: 0.9571 - val_loss: 0.3746 - val_accuracy: 0.9000\n",
      "Epoch 6/10\n",
      "2/2 [==============================] - 0s 44ms/step - loss: 0.0607 - accuracy: 0.9571 - val_loss: 0.3544 - val_accuracy: 0.9167\n",
      "Epoch 7/10\n",
      "2/2 [==============================] - 0s 41ms/step - loss: 0.0553 - accuracy: 0.9679 - val_loss: 0.3361 - val_accuracy: 0.9167\n",
      "Epoch 8/10\n",
      "2/2 [==============================] - 0s 44ms/step - loss: 0.0491 - accuracy: 0.9571 - val_loss: 0.3223 - val_accuracy: 0.9167\n",
      "Epoch 9/10\n",
      "2/2 [==============================] - 0s 39ms/step - loss: 0.0448 - accuracy: 0.9607 - val_loss: 0.3104 - val_accuracy: 0.9167\n",
      "Epoch 10/10\n",
      "2/2 [==============================] - 0s 39ms/step - loss: 0.0386 - accuracy: 0.9714 - val_loss: 0.3008 - val_accuracy: 0.9167\n",
      "4/4 [==============================] - 0s 2ms/step\n",
      "\n",
      "Precision: 0.8148148148148148\n",
      "Accuracy: 0.9166666666666666\n",
      "Recall: 1.0\n",
      "F1-score: 0.8979591836734693\n",
      "\n",
      "Classification Report:\n",
      "              precision    recall  f1-score   support\n",
      "\n",
      "           0       1.00      0.87      0.93        76\n",
      "           1       0.81      1.00      0.90        44\n",
      "\n",
      "    accuracy                           0.92       120\n",
      "   macro avg       0.91      0.93      0.91       120\n",
      "weighted avg       0.93      0.92      0.92       120\n",
      "\n",
      "\n",
      "Confusion Matrix: \n",
      "[[66 10]\n",
      " [ 0 44]]\n"
     ]
    },
    {
     "data": {
      "image/png": "[encoded data removed]",
      "text/plain": [
       "<Figure size 432x288 with 2 Axes>"
      ]
     },
     "metadata": {
      "needs_background": "light"
     },
     "output_type": "display_data"
    },
    {
     "name": "stdout",
     "output_type": "stream",
     "text": [
      "\n",
      "Features From method 2\n",
      "\n",
      "\n",
      "The no of features are 6\n",
      "\n",
      "Epoch 1/10\n",
      "2/2 [==============================] - 2s 324ms/step - loss: 0.2837 - accuracy: 0.5179 - val_loss: 0.4589 - val_accuracy: 0.9000\n",
      "Epoch 2/10\n",
      "2/2 [==============================] - 0s 26ms/step - loss: 0.0978 - accuracy: 0.8214 - val_loss: 0.3597 - val_accuracy: 0.9333\n",
      "Epoch 3/10\n",
      "2/2 [==============================] - 0s 27ms/step - loss: 0.0814 - accuracy: 0.8786 - val_loss: 0.2906 - val_accuracy: 0.9333\n",
      "Epoch 4/10\n",
      "2/2 [==============================] - 0s 27ms/step - loss: 0.0721 - accuracy: 0.8929 - val_loss: 0.2455 - val_accuracy: 0.9333\n",
      "Epoch 5/10\n",
      "2/2 [==============================] - 0s 45ms/step - loss: 0.0590 - accuracy: 0.9179 - val_loss: 0.2156 - val_accuracy: 0.9333\n",
      "Epoch 6/10\n",
      "2/2 [==============================] - 0s 47ms/step - loss: 0.0512 - accuracy: 0.9393 - val_loss: 0.1934 - val_accuracy: 0.9333\n",
      "Epoch 7/10\n",
      "2/2 [==============================] - 0s 51ms/step - loss: 0.0487 - accuracy: 0.9286 - val_loss: 0.1777 - val_accuracy: 0.9333\n",
      "Epoch 8/10\n",
      "2/2 [==============================] - 0s 47ms/step - loss: 0.0451 - accuracy: 0.9464 - val_loss: 0.1669 - val_accuracy: 0.9333\n",
      "Epoch 9/10\n",
      "2/2 [==============================] - 0s 40ms/step - loss: 0.0453 - accuracy: 0.9571 - val_loss: 0.1590 - val_accuracy: 0.9333\n",
      "Epoch 10/10\n",
      "2/2 [==============================] - 0s 43ms/step - loss: 0.0389 - accuracy: 0.9607 - val_loss: 0.1507 - val_accuracy: 0.9333\n",
      "4/4 [==============================] - 0s 1ms/step\n",
      "\n",
      "Precision: 0.8461538461538461\n",
      "Accuracy: 0.9333333333333333\n",
      "Recall: 1.0\n",
      "F1-score: 0.9166666666666666\n",
      "\n",
      "Classification Report:\n",
      "              precision    recall  f1-score   support\n",
      "\n",
      "           0       1.00      0.89      0.94        76\n",
      "           1       0.85      1.00      0.92        44\n",
      "\n",
      "    accuracy                           0.93       120\n",
      "   macro avg       0.92      0.95      0.93       120\n",
      "weighted avg       0.94      0.93      0.93       120\n",
      "\n",
      "\n",
      "Confusion Matrix: \n",
      "[[68  8]\n",
      " [ 0 44]]\n"
     ]
    },
    {
     "data": {
      "image/png": "[encoded data removed]",
      "text/plain": [
       "<Figure size 432x288 with 2 Axes>"
      ]
     },
     "metadata": {
      "needs_background": "light"
     },
     "output_type": "display_data"
    },
    {
     "name": "stdout",
     "output_type": "stream",
     "text": [
      "\n",
      "Features From method 2\n",
      "\n",
      "\n",
      "The no of features are 7\n",
      "\n",
      "Epoch 1/10\n",
      "2/2 [==============================] - 2s 323ms/step - loss: 0.4081 - accuracy: 0.4464 - val_loss: 0.5782 - val_accuracy: 0.9833\n",
      "Epoch 2/10\n",
      "2/2 [==============================] - 0s 40ms/step - loss: 0.1741 - accuracy: 0.8071 - val_loss: 0.5029 - val_accuracy: 0.9667\n",
      "Epoch 3/10\n",
      "2/2 [==============================] - 0s 42ms/step - loss: 0.1316 - accuracy: 0.8571 - val_loss: 0.4380 - val_accuracy: 0.9667\n",
      "Epoch 4/10\n",
      "2/2 [==============================] - 0s 37ms/step - loss: 0.1072 - accuracy: 0.8464 - val_loss: 0.3803 - val_accuracy: 0.9667\n",
      "Epoch 5/10\n",
      "2/2 [==============================] - 0s 39ms/step - loss: 0.0903 - accuracy: 0.8643 - val_loss: 0.3284 - val_accuracy: 0.9833\n",
      "Epoch 6/10\n",
      "2/2 [==============================] - 0s 41ms/step - loss: 0.0824 - accuracy: 0.8893 - val_loss: 0.2826 - val_accuracy: 0.9833\n",
      "Epoch 7/10\n",
      "2/2 [==============================] - 0s 39ms/step - loss: 0.0666 - accuracy: 0.9000 - val_loss: 0.2406 - val_accuracy: 0.9833\n",
      "Epoch 8/10\n",
      "2/2 [==============================] - 0s 39ms/step - loss: 0.0702 - accuracy: 0.9107 - val_loss: 0.2032 - val_accuracy: 0.9833\n",
      "Epoch 9/10\n",
      "2/2 [==============================] - 0s 40ms/step - loss: 0.0582 - accuracy: 0.9321 - val_loss: 0.1725 - val_accuracy: 0.9833\n",
      "Epoch 10/10\n",
      "2/2 [==============================] - 0s 41ms/step - loss: 0.0628 - accuracy: 0.9107 - val_loss: 0.1466 - val_accuracy: 0.9833\n",
      "4/4 [==============================] - 0s 2ms/step\n",
      "\n",
      "Precision: 1.0\n",
      "Accuracy: 0.9833333333333333\n",
      "Recall: 0.9545454545454546\n",
      "F1-score: 0.9767441860465117\n",
      "\n",
      "Classification Report:\n",
      "              precision    recall  f1-score   support\n",
      "\n",
      "           0       0.97      1.00      0.99        76\n",
      "           1       1.00      0.95      0.98        44\n",
      "\n",
      "    accuracy                           0.98       120\n",
      "   macro avg       0.99      0.98      0.98       120\n",
      "weighted avg       0.98      0.98      0.98       120\n",
      "\n",
      "\n",
      "Confusion Matrix: \n",
      "[[76  0]\n",
      " [ 2 42]]\n"
     ]
    },
    {
     "data": {
      "image/png": "[encoded data removed]",
      "text/plain": [
       "<Figure size 432x288 with 2 Axes>"
      ]
     },
     "metadata": {
      "needs_background": "light"
     },
     "output_type": "display_data"
    },
    {
     "name": "stdout",
     "output_type": "stream",
     "text": [
      "\n",
      "Features From method 2\n",
      "\n",
      "\n",
      "The no of features are 8\n",
      "\n",
      "Epoch 1/10\n",
      "2/2 [==============================] - 2s 326ms/step - loss: 0.3528 - accuracy: 0.4107 - val_loss: 0.5464 - val_accuracy: 0.7833\n",
      "Epoch 2/10\n",
      "2/2 [==============================] - 0s 39ms/step - loss: 0.1167 - accuracy: 0.7250 - val_loss: 0.4301 - val_accuracy: 0.9583\n",
      "Epoch 3/10\n",
      "2/2 [==============================] - 0s 41ms/step - loss: 0.0879 - accuracy: 0.8429 - val_loss: 0.3663 - val_accuracy: 0.9667\n",
      "Epoch 4/10\n",
      "2/2 [==============================] - 0s 42ms/step - loss: 0.0722 - accuracy: 0.9000 - val_loss: 0.3304 - val_accuracy: 0.9750\n",
      "Epoch 5/10\n",
      "2/2 [==============================] - 0s 42ms/step - loss: 0.0639 - accuracy: 0.9214 - val_loss: 0.3035 - val_accuracy: 0.9667\n",
      "Epoch 6/10\n",
      "2/2 [==============================] - 0s 41ms/step - loss: 0.0565 - accuracy: 0.9286 - val_loss: 0.2802 - val_accuracy: 0.9583\n",
      "Epoch 7/10\n",
      "2/2 [==============================] - 0s 41ms/step - loss: 0.0544 - accuracy: 0.9429 - val_loss: 0.2627 - val_accuracy: 0.9583\n",
      "Epoch 8/10\n",
      "2/2 [==============================] - 0s 44ms/step - loss: 0.0496 - accuracy: 0.9500 - val_loss: 0.2498 - val_accuracy: 0.9500\n",
      "Epoch 9/10\n",
      "2/2 [==============================] - 0s 43ms/step - loss: 0.0439 - accuracy: 0.9643 - val_loss: 0.2400 - val_accuracy: 0.9417\n",
      "Epoch 10/10\n",
      "2/2 [==============================] - 0s 46ms/step - loss: 0.0420 - accuracy: 0.9714 - val_loss: 0.2347 - val_accuracy: 0.9417\n",
      "4/4 [==============================] - 0s 2ms/step\n",
      "\n",
      "Precision: 0.8627450980392157\n",
      "Accuracy: 0.9416666666666667\n",
      "Recall: 1.0\n",
      "F1-score: 0.9263157894736842\n",
      "\n",
      "Classification Report:\n",
      "              precision    recall  f1-score   support\n",
      "\n",
      "           0       1.00      0.91      0.95        76\n",
      "           1       0.86      1.00      0.93        44\n",
      "\n",
      "    accuracy                           0.94       120\n",
      "   macro avg       0.93      0.95      0.94       120\n",
      "weighted avg       0.95      0.94      0.94       120\n",
      "\n",
      "\n",
      "Confusion Matrix: \n",
      "[[69  7]\n",
      " [ 0 44]]\n"
     ]
    },
    {
     "data": {
      "image/png": "[encoded data removed]",
      "text/plain": [
       "<Figure size 432x288 with 2 Axes>"
      ]
     },
     "metadata": {
      "needs_background": "light"
     },
     "output_type": "display_data"
    },
    {
     "name": "stdout",
     "output_type": "stream",
     "text": [
      "\n",
      "Features From method 2\n",
      "\n",
      "\n",
      "The no of features are 9\n",
      "\n",
      "Epoch 1/10\n",
      "2/2 [==============================] - 2s 331ms/step - loss: 0.4448 - accuracy: 0.2321 - val_loss: 0.6025 - val_accuracy: 0.7250\n",
      "Epoch 2/10\n",
      "2/2 [==============================] - 0s 34ms/step - loss: 0.1234 - accuracy: 0.7429 - val_loss: 0.4765 - val_accuracy: 0.9250\n",
      "Epoch 3/10\n",
      "2/2 [==============================] - 0s 41ms/step - loss: 0.0790 - accuracy: 0.8571 - val_loss: 0.3951 - val_accuracy: 0.9417\n",
      "Epoch 4/10\n",
      "2/2 [==============================] - 0s 46ms/step - loss: 0.0705 - accuracy: 0.8929 - val_loss: 0.3326 - val_accuracy: 0.9500\n",
      "Epoch 5/10\n",
      "2/2 [==============================] - 0s 42ms/step - loss: 0.0639 - accuracy: 0.9036 - val_loss: 0.2847 - val_accuracy: 0.9500\n",
      "Epoch 6/10\n",
      "2/2 [==============================] - 0s 43ms/step - loss: 0.0598 - accuracy: 0.9357 - val_loss: 0.2514 - val_accuracy: 0.9583\n",
      "Epoch 7/10\n",
      "2/2 [==============================] - 0s 35ms/step - loss: 0.0527 - accuracy: 0.9393 - val_loss: 0.2323 - val_accuracy: 0.9333\n",
      "Epoch 8/10\n",
      "2/2 [==============================] - 0s 41ms/step - loss: 0.0474 - accuracy: 0.9500 - val_loss: 0.2251 - val_accuracy: 0.9250\n",
      "Epoch 9/10\n",
      "2/2 [==============================] - 0s 40ms/step - loss: 0.0441 - accuracy: 0.9571 - val_loss: 0.2269 - val_accuracy: 0.9250\n",
      "Epoch 10/10\n",
      "2/2 [==============================] - 0s 40ms/step - loss: 0.0434 - accuracy: 0.9607 - val_loss: 0.2330 - val_accuracy: 0.9250\n",
      "4/4 [==============================] - 0s 2ms/step\n",
      "\n",
      "Precision: 0.8301886792452831\n",
      "Accuracy: 0.925\n",
      "Recall: 1.0\n",
      "F1-score: 0.9072164948453608\n",
      "\n",
      "Classification Report:\n",
      "              precision    recall  f1-score   support\n",
      "\n",
      "           0       1.00      0.88      0.94        76\n",
      "           1       0.83      1.00      0.91        44\n",
      "\n",
      "    accuracy                           0.93       120\n",
      "   macro avg       0.92      0.94      0.92       120\n",
      "weighted avg       0.94      0.93      0.93       120\n",
      "\n",
      "\n",
      "Confusion Matrix: \n",
      "[[67  9]\n",
      " [ 0 44]]\n"
     ]
    },
    {
     "data": {
      "image/png": "[encoded data removed]",
      "text/plain": [
       "<Figure size 432x288 with 2 Axes>"
      ]
     },
     "metadata": {
      "needs_background": "light"
     },
     "output_type": "display_data"
    },
    {
     "name": "stdout",
     "output_type": "stream",
     "text": [
      "\n",
      "Features From method 2\n",
      "\n",
      "\n",
      "The no of features are 10\n",
      "\n",
      "Epoch 1/10\n",
      "2/2 [==============================] - 1s 312ms/step - loss: 0.4604 - accuracy: 0.3250 - val_loss: 0.4903 - val_accuracy: 0.8833\n",
      "Epoch 2/10\n",
      "2/2 [==============================] - 0s 44ms/step - loss: 0.1075 - accuracy: 0.7893 - val_loss: 0.3457 - val_accuracy: 0.9583\n",
      "Epoch 3/10\n",
      "2/2 [==============================] - 0s 45ms/step - loss: 0.0736 - accuracy: 0.8643 - val_loss: 0.2700 - val_accuracy: 0.9750\n",
      "Epoch 4/10\n",
      "2/2 [==============================] - 0s 42ms/step - loss: 0.0545 - accuracy: 0.9036 - val_loss: 0.2134 - val_accuracy: 0.9750\n",
      "Epoch 5/10\n",
      "2/2 [==============================] - 0s 41ms/step - loss: 0.0562 - accuracy: 0.9250 - val_loss: 0.1732 - val_accuracy: 0.9750\n",
      "Epoch 6/10\n",
      "2/2 [==============================] - 0s 40ms/step - loss: 0.0467 - accuracy: 0.9321 - val_loss: 0.1442 - val_accuracy: 0.9750\n",
      "Epoch 7/10\n",
      "2/2 [==============================] - 0s 44ms/step - loss: 0.0439 - accuracy: 0.9607 - val_loss: 0.1249 - val_accuracy: 0.9750\n",
      "Epoch 8/10\n",
      "2/2 [==============================] - 0s 41ms/step - loss: 0.0399 - accuracy: 0.9429 - val_loss: 0.1117 - val_accuracy: 0.9750\n",
      "Epoch 9/10\n",
      "2/2 [==============================] - 0s 44ms/step - loss: 0.0351 - accuracy: 0.9679 - val_loss: 0.1025 - val_accuracy: 0.9750\n",
      "Epoch 10/10\n",
      "2/2 [==============================] - 0s 41ms/step - loss: 0.0344 - accuracy: 0.9679 - val_loss: 0.0974 - val_accuracy: 0.9750\n",
      "4/4 [==============================] - 0s 2ms/step\n",
      "\n",
      "Precision: 0.9361702127659575\n",
      "Accuracy: 0.975\n",
      "Recall: 1.0\n",
      "F1-score: 0.967032967032967\n",
      "\n",
      "Classification Report:\n",
      "              precision    recall  f1-score   support\n",
      "\n",
      "           0       1.00      0.96      0.98        76\n",
      "           1       0.94      1.00      0.97        44\n",
      "\n",
      "    accuracy                           0.97       120\n",
      "   macro avg       0.97      0.98      0.97       120\n",
      "weighted avg       0.98      0.97      0.98       120\n",
      "\n",
      "\n",
      "Confusion Matrix: \n",
      "[[73  3]\n",
      " [ 0 44]]\n"
     ]
    },
    {
     "data": {
      "image/png": "[encoded data removed]",
      "text/plain": [
       "<Figure size 432x288 with 2 Axes>"
      ]
     },
     "metadata": {
      "needs_background": "light"
     },
     "output_type": "display_data"
    }
   ],
   "source": [
    "for k in range(0,2):\n",
    "    \n",
    "    for i in range(5,11):\n",
    "        if k==0:\n",
    "            print(\"\\nFeatures From method 1\\n\")\n",
    "            print('\\nThe no of features are ' +str(i)+\"\\n\")\n",
    "            f = feat_importances.nlargest(i).index\n",
    "            tr = feature_classes[f.tolist()]\n",
    "        else:\n",
    "            print(\"\\nFeatures From method 2\\n\")\n",
    "            print('\\nThe no of features are ' +str(i)+\"\\n\")\n",
    "            f = featureScores.nlargest(i,'Score').iloc[:,0:1]\n",
    "            tr = feature_classes[f[\"Specs\"].tolist()]\n",
    "\n",
    "        X_train, X_test, y_train, y_test = train_test_split(tr, target_class, test_size=0.3, random_state=42)\n",
    "\n",
    "        scaler = StandardScaler()\n",
    "        X_train = scaler.fit_transform(X_train)\n",
    "        X_test  = scaler.fit_transform(X_test)\n",
    "\n",
    "\n",
    "        n_cnn_features = i\n",
    "        X_train_cnn = X_train\n",
    "        X_test_cnn = X_test\n",
    "\n",
    "\n",
    "        X_train_cnn = X_train_cnn.reshape((X_train.shape[0],n_cnn_features,1))\n",
    "        X_test_cnn  = X_test_cnn.reshape((X_test.shape[0],n_cnn_features,1))\n",
    "\n",
    "        nb_classes = 2\n",
    "        Y_train_cat = np_utils.to_categorical(y_train, nb_classes)\n",
    "        Y_test_cat = np_utils.to_categorical(y_test, nb_classes)\n",
    "\n",
    "\n",
    "        inp_cnn   = Input(shape=(n_cnn_features,1))\n",
    "\n",
    "        adam = tf.keras.optimizers.Adam(lr=lr)\n",
    "        activation = 'relu'\n",
    "\n",
    "        #Two convolution layers\n",
    "        d_1 = layers.Conv1D(n_filters, kernel_size_3, input_shape=(n_cnn_features,1), padding='same', activation='relu', name='layer_1')(inp_cnn)\n",
    "        d_2 = layers.Dropout(dropout)(d_1)\n",
    "        d_3 = layers.Conv1D(n_filters, kernel_size_3, padding='same', activation='relu', name='layer_2')(d_2)\n",
    "        d_4 = layers.Dropout(dropout)(d_3)\n",
    "\n",
    "        #Flattening operation\n",
    "        d_5 = layers.Flatten()(d_4)\n",
    "\n",
    "        #Fully connected layer 1\n",
    "        d_6 = layers.Dense(n_nodes, name='layer_3')(d_5)\n",
    "        d_7 = layers.BatchNormalization()(d_6)\n",
    "        d_8 = layers.Dropout(dropout)(d_7)\n",
    "        d_9 = layers.Activation(activation='relu')(d_8)\n",
    "\n",
    "        #Output layer(softmax function)\n",
    "        d_10 = layers.Dense(2, activation='softmax')(d_9)\n",
    "\n",
    "        #Model definition:\n",
    "        model_cnn_3 = Model(inp_cnn, d_10)\n",
    "        #model_cnn_3.summary()\n",
    "        model_cnn_3.compile(optimizer=adam, loss=\"categorical_crossentropy\", metrics=[\"accuracy\"])\n",
    "\n",
    "        history = model_cnn_3.fit(X_train_cnn, Y_train_cat, batch_size=batch_size,\n",
    "                                  epochs=n_epochs, class_weight=class_weight,\n",
    "                                  validation_data=(X_test_cnn, Y_test_cat)) \n",
    "\n",
    "        pred = model_cnn_3.predict([X_test_cnn], verbose=1)\n",
    "        Y_pred = np.reshape(np.argmax(pred, axis=1), newshape=(pred.shape[0],1)) \n",
    "        Y_test_ = np.asarray(np.reshape(y_test, newshape=(y_test.shape[0],1)), dtype=np.int)\n",
    "\n",
    "        print('\\nPrecision: ' + str(metrics.precision_score(y_test, Y_pred)))\n",
    "        print('Accuracy: ' + str(metrics.accuracy_score(y_test, Y_pred)))\n",
    "        print('Recall: ' + str(metrics.recall_score(y_test, Y_pred)))\n",
    "        print('F1-score: ' + str(metrics.f1_score(y_test, Y_pred)))\n",
    "\n",
    "\n",
    "        print('\\nClassification Report:\\n' + str(metrics.classification_report(y_test, Y_pred)))\n",
    "        print('\\nConfusion Matrix: \\n' + str(metrics.confusion_matrix(y_test, Y_pred)))\n",
    "        sns.heatmap(metrics.confusion_matrix(y_test, Y_pred), annot = True)\n",
    "        plt.show()"
   ]
  },
  {
   "cell_type": "markdown",
   "id": "960ef518",
   "metadata": {},
   "source": [
    "## Pickel File"
   ]
  },
  {
   "cell_type": "code",
   "execution_count": 32,
   "id": "2e14ce30",
   "metadata": {},
   "outputs": [],
   "source": [
    "import joblib\n",
    " \n",
    "joblib.dump(svm_grid_search, 'ckd.pkl')\n",
    " \n",
    "svm_from_joblib = joblib.load('ckd.pkl')"
   ]
  },
  {
   "cell_type": "code",
   "execution_count": 59,
   "id": "1d2afd36",
   "metadata": {},
   "outputs": [
    {
     "data": {
      "text/plain": [
       "['scaler.bin']"
      ]
     },
     "execution_count": 59,
     "metadata": {},
     "output_type": "execute_result"
    }
   ],
   "source": [
    "joblib.dump(scaler,'scaler.bin')"
   ]
  },
  {
   "cell_type": "code",
   "execution_count": 52,
   "id": "9762185f",
   "metadata": {},
   "outputs": [
    {
     "name": "stdout",
     "output_type": "stream",
     "text": [
      "Scaled data mean is 6.11637724594922e-15\n"
     ]
    }
   ],
   "source": [
    "f = feat_importances.nlargest(5).index\n",
    "tr = train_features[f.tolist()]\n",
    "ts = test_features[f.tolist()]\n",
    "col_name = f.tolist()\n",
    "\n",
    "scaler = StandardScaler()\n",
    "tr = scaler.fit_transform(tr)\n",
    "print(\"Scaled data mean is \" + str(tr.mean()))\n",
    "ts = scaler.transform(ts)\n",
    "\n",
    "tr = pd.DataFrame(tr, columns = col_name)\n",
    "ts = pd.DataFrame(ts, columns = col_name)"
   ]
  },
  {
   "cell_type": "code",
   "execution_count": 56,
   "id": "4be9b557",
   "metadata": {
    "scrolled": true
   },
   "outputs": [
    {
     "name": "stdout",
     "output_type": "stream",
     "text": [
      "   hemo   pcv   sc    sg  rbcc\n",
      "0  10.1  29.0  2.5  1.02   0.0\n"
     ]
    }
   ],
   "source": [
    "values = np.asarray([10.10,29.0,2.50,1.020,0.0])\n",
    "values = pd.DataFrame(values.reshape(-1,5), columns = ['hemo', 'pcv', 'sc', 'sg', 'rbcc'])\n",
    "print(values)"
   ]
  },
  {
   "cell_type": "code",
   "execution_count": 57,
   "id": "d009d5cf",
   "metadata": {},
   "outputs": [
    {
     "name": "stdout",
     "output_type": "stream",
     "text": [
      "       hemo       pcv        sc       sg      rbcc\n",
      "0 -0.771075 -0.177686 -0.087219  0.49037 -1.316487\n"
     ]
    }
   ],
   "source": [
    "values = scaler.transform(values)\n",
    "values = pd.DataFrame(values.reshape(-1,5), columns = ['hemo', 'pcv', 'sc', 'sg', 'rbcc'])\n",
    "print(values)"
   ]
  },
  {
   "cell_type": "code",
   "execution_count": 58,
   "id": "39795a7c",
   "metadata": {},
   "outputs": [
    {
     "data": {
      "text/plain": [
       "array([0])"
      ]
     },
     "execution_count": 58,
     "metadata": {},
     "output_type": "execute_result"
    }
   ],
   "source": [
    "y_pred = svm_from_joblib.predict(values)\n",
    "y_pred"
   ]
  },
  {
   "cell_type": "code",
   "execution_count": null,
   "id": "18eac563",
   "metadata": {},
   "outputs": [],
   "source": []
  }
 ],
 "metadata": {
  "kernelspec": {
   "display_name": "Python 3 (ipykernel)",
   "language": "python",
   "name": "python3"
  },
  "language_info": {
   "codemirror_mode": {
    "name": "ipython",
    "version": 3
   },
   "file_extension": ".py",
   "mimetype": "text/x-python",
   "name": "python",
   "nbconvert_exporter": "python",
   "pygments_lexer": "ipython3",
   "version": "3.9.1"
  }
 },
 "nbformat": 4,
 "nbformat_minor": 5
}
